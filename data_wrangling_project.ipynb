{
 "cells": [
  {
   "cell_type": "markdown",
   "metadata": {
    "id": "GNIwe5N7s0e_"
   },
   "source": [
    "# Real-world Data Wrangling"
   ]
  },
  {
   "cell_type": "markdown",
   "metadata": {
    "id": "_BG63Tpg8ep_"
   },
   "source": [
    "In this project, you will apply the skills you acquired in the course to gather and wrangle real-world data with two datasets of your choice.\n",
    "\n",
    "You will retrieve and extract the data, assess the data programmatically and visually, accross elements of data quality and structure, and implement a cleaning strategy for the data. You will then store the updated data into your selected database/data store, combine the data, and answer a research question with the datasets.\n",
    "\n",
    "Throughout the process, you are expected to:\n",
    "\n",
    "1. Explain your decisions towards methods used for gathering, assessing, cleaning, storing, and answering the research question\n",
    "2. Write code comments so your code is more readable"
   ]
  },
  {
   "cell_type": "markdown",
   "metadata": {
    "id": "lDYDkH-Zs7Nn"
   },
   "source": [
    "## 1. Gather data\n",
    "\n",
    "In this section, you will extract data using two different data gathering methods and combine the data. Use at least two different types of data-gathering methods."
   ]
  },
  {
   "cell_type": "markdown",
   "metadata": {
    "id": "LbN7z7rcuqpO"
   },
   "source": [
    "### **1.1.** Problem Statement\n",
    "In 2-4 sentences, explain the kind of problem you want to look at and the datasets you will be wrangling for this project."
   ]
  },
  {
   "cell_type": "markdown",
   "metadata": {
    "id": "gi6swhjSYqu2"
   },
   "source": [
    "I will be examining usage of Japanese in the author-supplied descriptions of popular free Internet fiction (\"webnovels\") to see how the language used differs from how Japanese is used elsewhere. For my baseline for Japanese usage, I will be using a 2017 dataset containing the 15,000 most common Japanese lemmas (that is, regarding different forms of the same term as the same) in the Internet Corpus, posted on Kaggle by user Rachael Tatman. Webnovel summaries will be taken from the top stories posted on Shousetsuka ni Narou, the most popular Japanese webnovel site."
   ]
  },
  {
   "cell_type": "markdown",
   "metadata": {},
   "source": [
    "For this notebook, I used the same Conda environment I'd been using for the rest of this course. Its current dependencies, taken from `conda env export --from-history`, are:\n",
    "  - spacy\n",
    "  - jupyter\n",
    "  - matplotlib\n",
    "  - nltk\n",
    "  - numpy\n",
    "  - openpyxl\n",
    "  - pandas\n",
    "  - pip-system-certs\n",
    "  - python\n",
    "  - scikit-learn\n",
    "  - seaborn\n",
    "  - sqlalchemy"
   ]
  },
  {
   "cell_type": "markdown",
   "metadata": {
    "id": "8AQfBAdUypMm"
   },
   "source": [
    "### **1.2.** Gather at least two datasets using two different data gathering methods\n",
    "\n",
    "List of data gathering methods:\n",
    "\n",
    "- Download data manually\n",
    "- Programmatically downloading files\n",
    "- Gather data by accessing APIs\n",
    "- Gather and extract data from HTML files using BeautifulSoup\n",
    "- Extract data from a SQL database\n",
    "\n",
    "Each dataset must have at least two variables, and have greater than 500 data samples within each dataset.\n",
    "\n",
    "For each dataset, briefly describe why you picked the dataset and the gathering method (2-3 full sentences), including the names and significance of the variables in the dataset. Show your work (e.g., if using an API to download the data, please include a snippet of your code). \n",
    "\n",
    "Load the dataset programmtically into this notebook."
   ]
  },
  {
   "cell_type": "code",
   "execution_count": null,
   "metadata": {},
   "outputs": [],
   "source": []
  },
  {
   "cell_type": "markdown",
   "metadata": {
    "id": "7e6gS0wL1KTu"
   },
   "source": [
    "#### **Dataset 1**\n",
    "\n",
    "Type: CSV file\n",
    "\n",
    "Method: File downloaded from [Kaggle page](https://www.kaggle.com/datasets/rtatman/japanese-lemma-frequency).\n",
    "\n",
    "Dataset variables:\n",
    "\n",
    "*   `rank`: Lemma's position in the ranking of the 15,000 most common.\n",
    "*   `frequency`: Number of times the lemma occurs in the corpus, relative to a baseline. This is described as \"number of times it occurs in the corpus\", but is not an integer; values range from 41309.5 to 2.24, with a median of 6.42 and some recorded values differing by as little as 0.01.\n",
    "*   `lemma`: The lemma itself."
   ]
  },
  {
   "cell_type": "code",
   "execution_count": 1,
   "metadata": {
    "id": "Su8E0uLuYkHU"
   },
   "outputs": [
    {
     "data": {
      "text/html": [
       "<div>\n",
       "<style scoped>\n",
       "    .dataframe tbody tr th:only-of-type {\n",
       "        vertical-align: middle;\n",
       "    }\n",
       "\n",
       "    .dataframe tbody tr th {\n",
       "        vertical-align: top;\n",
       "    }\n",
       "\n",
       "    .dataframe thead th {\n",
       "        text-align: right;\n",
       "    }\n",
       "</style>\n",
       "<table border=\"1\" class=\"dataframe\">\n",
       "  <thead>\n",
       "    <tr style=\"text-align: right;\">\n",
       "      <th></th>\n",
       "      <th>rank</th>\n",
       "      <th>frequency</th>\n",
       "      <th>lemma</th>\n",
       "    </tr>\n",
       "  </thead>\n",
       "  <tbody>\n",
       "    <tr>\n",
       "      <th>0</th>\n",
       "      <td>1</td>\n",
       "      <td>41309.50</td>\n",
       "      <td>の</td>\n",
       "    </tr>\n",
       "    <tr>\n",
       "      <th>1</th>\n",
       "      <td>2</td>\n",
       "      <td>23509.54</td>\n",
       "      <td>に</td>\n",
       "    </tr>\n",
       "    <tr>\n",
       "      <th>2</th>\n",
       "      <td>3</td>\n",
       "      <td>22216.80</td>\n",
       "      <td>は</td>\n",
       "    </tr>\n",
       "    <tr>\n",
       "      <th>3</th>\n",
       "      <td>4</td>\n",
       "      <td>20431.93</td>\n",
       "      <td>て</td>\n",
       "    </tr>\n",
       "    <tr>\n",
       "      <th>4</th>\n",
       "      <td>5</td>\n",
       "      <td>20326.59</td>\n",
       "      <td>を</td>\n",
       "    </tr>\n",
       "  </tbody>\n",
       "</table>\n",
       "</div>"
      ],
      "text/plain": [
       "   rank  frequency lemma\n",
       "0     1   41309.50     の\n",
       "1     2   23509.54     に\n",
       "2     3   22216.80     は\n",
       "3     4   20431.93     て\n",
       "4     5   20326.59     を"
      ]
     },
     "execution_count": 1,
     "metadata": {},
     "output_type": "execute_result"
    }
   ],
   "source": [
    "import pandas as pd\n",
    "import numpy as np\n",
    "\n",
    "#FILL IN 1st data gathering and loading method\n",
    "rtatman_ranking = pd.read_csv(\"japanese_lemmas.csv\")\n",
    "rtatman_ranking.head()"
   ]
  },
  {
   "cell_type": "code",
   "execution_count": 2,
   "metadata": {},
   "outputs": [
    {
     "data": {
      "text/html": [
       "<div>\n",
       "<style scoped>\n",
       "    .dataframe tbody tr th:only-of-type {\n",
       "        vertical-align: middle;\n",
       "    }\n",
       "\n",
       "    .dataframe tbody tr th {\n",
       "        vertical-align: top;\n",
       "    }\n",
       "\n",
       "    .dataframe thead th {\n",
       "        text-align: right;\n",
       "    }\n",
       "</style>\n",
       "<table border=\"1\" class=\"dataframe\">\n",
       "  <thead>\n",
       "    <tr style=\"text-align: right;\">\n",
       "      <th></th>\n",
       "      <th>rank</th>\n",
       "      <th>frequency</th>\n",
       "    </tr>\n",
       "  </thead>\n",
       "  <tbody>\n",
       "    <tr>\n",
       "      <th>count</th>\n",
       "      <td>15000.000000</td>\n",
       "      <td>15000.000000</td>\n",
       "    </tr>\n",
       "    <tr>\n",
       "      <th>mean</th>\n",
       "      <td>7500.500000</td>\n",
       "      <td>52.257601</td>\n",
       "    </tr>\n",
       "    <tr>\n",
       "      <th>std</th>\n",
       "      <td>4330.271354</td>\n",
       "      <td>641.211909</td>\n",
       "    </tr>\n",
       "    <tr>\n",
       "      <th>min</th>\n",
       "      <td>1.000000</td>\n",
       "      <td>2.240000</td>\n",
       "    </tr>\n",
       "    <tr>\n",
       "      <th>25%</th>\n",
       "      <td>3750.750000</td>\n",
       "      <td>3.510000</td>\n",
       "    </tr>\n",
       "    <tr>\n",
       "      <th>50%</th>\n",
       "      <td>7500.500000</td>\n",
       "      <td>6.420000</td>\n",
       "    </tr>\n",
       "    <tr>\n",
       "      <th>75%</th>\n",
       "      <td>11250.250000</td>\n",
       "      <td>16.782500</td>\n",
       "    </tr>\n",
       "    <tr>\n",
       "      <th>max</th>\n",
       "      <td>15000.000000</td>\n",
       "      <td>41309.500000</td>\n",
       "    </tr>\n",
       "  </tbody>\n",
       "</table>\n",
       "</div>"
      ],
      "text/plain": [
       "               rank     frequency\n",
       "count  15000.000000  15000.000000\n",
       "mean    7500.500000     52.257601\n",
       "std     4330.271354    641.211909\n",
       "min        1.000000      2.240000\n",
       "25%     3750.750000      3.510000\n",
       "50%     7500.500000      6.420000\n",
       "75%    11250.250000     16.782500\n",
       "max    15000.000000  41309.500000"
      ]
     },
     "execution_count": 2,
     "metadata": {},
     "output_type": "execute_result"
    }
   ],
   "source": [
    "rtatman_ranking.describe()"
   ]
  },
  {
   "cell_type": "markdown",
   "metadata": {
    "id": "hoUjq1tPzz7P"
   },
   "source": [
    "#### Dataset 2\n",
    "\n",
    "Type: API\n",
    "\n",
    "Method: The data was downloaded via the official \"Narou Novel API\" for popular website Shousetsuka ni Narou, documented [here](https://dev.syosetu.com/man/api/) and translated with built-in web browser tools.\n",
    "\n",
    "Dataset variables:\n",
    "\n",
    "*   `title`: The title of the story, in Japanese.\n",
    "*   `ncode`: The code used to identify the story in the site's URLs. These start with the letter N, followed by a four-digit number from 0001 to 9999, followed by one or two letters to indicate a \"block\" of IDs. A story posted on 2014-01-25, for instance, has ncode N4054BY; story N2216BZ launched on 2014-02-15, and story N2468CA on 2014-03-14.\n",
    "*   `story`: The author's summary for the story.\n",
    "*   `global_point`: The number of points users have given the story."
   ]
  },
  {
   "cell_type": "code",
   "execution_count": null,
   "metadata": {},
   "outputs": [],
   "source": []
  },
  {
   "cell_type": "code",
   "execution_count": 219,
   "metadata": {
    "id": "6zT0QxRyYmm7"
   },
   "outputs": [
    {
     "name": "stdout",
     "output_type": "stream",
     "text": [
      "<class 'pandas.core.frame.DataFrame'>\n",
      "RangeIndex: 2000 entries, 0 to 1999\n",
      "Data columns (total 3 columns):\n",
      " #   Column        Non-Null Count  Dtype \n",
      "---  ------        --------------  ----- \n",
      " 0   title_ncode   2000 non-null   object\n",
      " 1   story         2000 non-null   object\n",
      " 2   global_point  2000 non-null   int64 \n",
      "dtypes: int64(1), object(2)\n",
      "memory usage: 47.0+ KB\n"
     ]
    }
   ],
   "source": [
    "#FILL IN 2nd data gathering and loading method\n",
    "import requests\n",
    "import time\n",
    "\n",
    "def syosetu_api_fetch_ranking(limit: int, start_position: int):\n",
    "    API_BASE_URL = \"https://api.syosetu.com/novelapi/api/\"\n",
    "\n",
    "    query_params = {\n",
    "        # 'gzip': 1,\n",
    "        'out': 'json',\n",
    "        'of': '-'.join([\n",
    "            't',  # title, the work's title\n",
    "            'n',  # ncode, the ID the site uses for the work\n",
    "            's',  # story, synopsis\n",
    "            'gp', # global_point, total points as determined by multiplying the number of\n",
    "                  # users who've bookmarked the work by two, then adding one point for every\n",
    "                  # star a user's given it on a score of 1-10: 10 points for each 10-star\n",
    "                  # review, 9 points for each 9-star review, and so on.\n",
    "        ]),\n",
    "        'lim': limit,\n",
    "        'st': start_position,\n",
    "        'order': 'hyoka',\n",
    "    }\n",
    "\n",
    "    # I didn't see a rate limit mentioned in the API docs, and we're only making four\n",
    "    # requests, but it never hurts to be polite.\n",
    "    time.sleep(0.5)\n",
    "    return requests.get(API_BASE_URL, params=query_params).json()\n",
    "\n",
    "def fake_untidiness(j: dict):\n",
    "    return {\n",
    "        'title_ncode': j['title']+\"fhqwhgads\"+j['ncode'],\n",
    "        'story': j['story'],\n",
    "        'global_point': j['global_point'],\n",
    "    }\n",
    "\n",
    "# We load 2,000 records, 500 at a time, starting from the story with the most total points.\n",
    "# The first value in each response is an object of the form {\"allcount\": number}, which we\n",
    "# discard.\n",
    "syosetu_df = pd.concat(\n",
    "    (pd.DataFrame(fake_untidiness(j) for j in syosetu_api_fetch_ranking(500, 1+500*i)[1:])\n",
    "     for i in range(4)),\n",
    "    ignore_index=True\n",
    ")\n",
    "syosetu_df.info()"
   ]
  },
  {
   "cell_type": "code",
   "execution_count": 4,
   "metadata": {},
   "outputs": [
    {
     "data": {
      "text/html": [
       "<div>\n",
       "<style scoped>\n",
       "    .dataframe tbody tr th:only-of-type {\n",
       "        vertical-align: middle;\n",
       "    }\n",
       "\n",
       "    .dataframe tbody tr th {\n",
       "        vertical-align: top;\n",
       "    }\n",
       "\n",
       "    .dataframe thead th {\n",
       "        text-align: right;\n",
       "    }\n",
       "</style>\n",
       "<table border=\"1\" class=\"dataframe\">\n",
       "  <thead>\n",
       "    <tr style=\"text-align: right;\">\n",
       "      <th></th>\n",
       "      <th>global_point</th>\n",
       "    </tr>\n",
       "  </thead>\n",
       "  <tbody>\n",
       "    <tr>\n",
       "      <th>count</th>\n",
       "      <td>2000.000000</td>\n",
       "    </tr>\n",
       "    <tr>\n",
       "      <th>mean</th>\n",
       "      <td>119680.910500</td>\n",
       "    </tr>\n",
       "    <tr>\n",
       "      <th>std</th>\n",
       "      <td>94828.096683</td>\n",
       "    </tr>\n",
       "    <tr>\n",
       "      <th>min</th>\n",
       "      <td>52420.000000</td>\n",
       "    </tr>\n",
       "    <tr>\n",
       "      <th>25%</th>\n",
       "      <td>65305.500000</td>\n",
       "    </tr>\n",
       "    <tr>\n",
       "      <th>50%</th>\n",
       "      <td>85914.000000</td>\n",
       "    </tr>\n",
       "    <tr>\n",
       "      <th>75%</th>\n",
       "      <td>133611.250000</td>\n",
       "    </tr>\n",
       "    <tr>\n",
       "      <th>max</th>\n",
       "      <td>909690.000000</td>\n",
       "    </tr>\n",
       "  </tbody>\n",
       "</table>\n",
       "</div>"
      ],
      "text/plain": [
       "        global_point\n",
       "count    2000.000000\n",
       "mean   119680.910500\n",
       "std     94828.096683\n",
       "min     52420.000000\n",
       "25%     65305.500000\n",
       "50%     85914.000000\n",
       "75%    133611.250000\n",
       "max    909690.000000"
      ]
     },
     "execution_count": 4,
     "metadata": {},
     "output_type": "execute_result"
    }
   ],
   "source": [
    "syosetu_df.describe()"
   ]
  },
  {
   "cell_type": "code",
   "execution_count": 220,
   "metadata": {},
   "outputs": [
    {
     "data": {
      "text/html": [
       "<div>\n",
       "<style scoped>\n",
       "    .dataframe tbody tr th:only-of-type {\n",
       "        vertical-align: middle;\n",
       "    }\n",
       "\n",
       "    .dataframe tbody tr th {\n",
       "        vertical-align: top;\n",
       "    }\n",
       "\n",
       "    .dataframe thead th {\n",
       "        text-align: right;\n",
       "    }\n",
       "</style>\n",
       "<table border=\"1\" class=\"dataframe\">\n",
       "  <thead>\n",
       "    <tr style=\"text-align: right;\">\n",
       "      <th></th>\n",
       "      <th>title_ncode</th>\n",
       "      <th>story</th>\n",
       "      <th>global_point</th>\n",
       "    </tr>\n",
       "  </thead>\n",
       "  <tbody>\n",
       "    <tr>\n",
       "      <th>0</th>\n",
       "      <td>とんでもスキルで異世界放浪メシfhqwhgadsN2710DB</td>\n",
       "      <td>★㊗アニメ２期決定！★\\n❖❖❖オーバーラップノベルス様より書籍１４巻まで発売中！　本編コミ...</td>\n",
       "      <td>911561</td>\n",
       "    </tr>\n",
       "    <tr>\n",
       "      <th>1</th>\n",
       "      <td>転生したらスライムだった件fhqwhgadsN6316BN</td>\n",
       "      <td>突然路上で通り魔に刺されて死んでしまった、37歳のナイスガイ。意識が戻って自分の身体を確かめ...</td>\n",
       "      <td>905049</td>\n",
       "    </tr>\n",
       "    <tr>\n",
       "      <th>2</th>\n",
       "      <td>無職転生　- 異世界行ったら本気だす -fhqwhgadsN9669BK</td>\n",
       "      <td>３４歳職歴無し住所不定無職童貞のニートは、ある日家を追い出され、人生を後悔している間にトラッ...</td>\n",
       "      <td>879492</td>\n",
       "    </tr>\n",
       "    <tr>\n",
       "      <th>3</th>\n",
       "      <td>魔導具師ダリヤはうつむかないfhqwhgadsN7787EQ</td>\n",
       "      <td>応援ありがとうございます！　アニメ7月6日より放映開始となりました。\\n「すまない、ダリヤ。...</td>\n",
       "      <td>731238</td>\n",
       "    </tr>\n",
       "    <tr>\n",
       "      <th>4</th>\n",
       "      <td>ありふれた職業で世界最強fhqwhgadsN8611BV</td>\n",
       "      <td>クラスごと異世界に召喚され、他のクラスメイトがチートなスペックと“天職”を有する中、一人平凡...</td>\n",
       "      <td>706332</td>\n",
       "    </tr>\n",
       "  </tbody>\n",
       "</table>\n",
       "</div>"
      ],
      "text/plain": [
       "                            title_ncode  \\\n",
       "0       とんでもスキルで異世界放浪メシfhqwhgadsN2710DB   \n",
       "1         転生したらスライムだった件fhqwhgadsN6316BN   \n",
       "2  無職転生　- 異世界行ったら本気だす -fhqwhgadsN9669BK   \n",
       "3        魔導具師ダリヤはうつむかないfhqwhgadsN7787EQ   \n",
       "4          ありふれた職業で世界最強fhqwhgadsN8611BV   \n",
       "\n",
       "                                               story  global_point  \n",
       "0  ★㊗アニメ２期決定！★\\n❖❖❖オーバーラップノベルス様より書籍１４巻まで発売中！　本編コミ...        911561  \n",
       "1  突然路上で通り魔に刺されて死んでしまった、37歳のナイスガイ。意識が戻って自分の身体を確かめ...        905049  \n",
       "2  ３４歳職歴無し住所不定無職童貞のニートは、ある日家を追い出され、人生を後悔している間にトラッ...        879492  \n",
       "3  応援ありがとうございます！　アニメ7月6日より放映開始となりました。\\n「すまない、ダリヤ。...        731238  \n",
       "4  クラスごと異世界に召喚され、他のクラスメイトがチートなスペックと“天職”を有する中、一人平凡...        706332  "
      ]
     },
     "execution_count": 220,
     "metadata": {},
     "output_type": "execute_result"
    }
   ],
   "source": [
    "syosetu_df.head()"
   ]
  },
  {
   "cell_type": "markdown",
   "metadata": {},
   "source": [
    "Optional data storing step: You may save your raw dataset files to the local data store before moving to the next step."
   ]
  },
  {
   "cell_type": "code",
   "execution_count": 6,
   "metadata": {},
   "outputs": [],
   "source": [
    "#Optional: store the raw data in your local data store"
   ]
  },
  {
   "cell_type": "markdown",
   "metadata": {
    "id": "QwSWIVmotLgV"
   },
   "source": [
    "## 2. Assess data\n",
    "\n",
    "Assess the data according to data quality and tidiness metrics using the report below.\n",
    "\n",
    "List **two** data quality issues and **two** tidiness issues. Assess each data issue visually **and** programmatically, then briefly describe the issue you find.  **Make sure you include justifications for the methods you use for the assessment.**"
   ]
  },
  {
   "cell_type": "markdown",
   "metadata": {
    "id": "adaK2iPNzVu4"
   },
   "source": [
    "### Quality Issue 1:"
   ]
  },
  {
   "cell_type": "code",
   "execution_count": 7,
   "metadata": {
    "id": "SpW59kh-zl8d"
   },
   "outputs": [
    {
     "data": {
      "text/html": [
       "<div>\n",
       "<style scoped>\n",
       "    .dataframe tbody tr th:only-of-type {\n",
       "        vertical-align: middle;\n",
       "    }\n",
       "\n",
       "    .dataframe tbody tr th {\n",
       "        vertical-align: top;\n",
       "    }\n",
       "\n",
       "    .dataframe thead th {\n",
       "        text-align: right;\n",
       "    }\n",
       "</style>\n",
       "<table border=\"1\" class=\"dataframe\">\n",
       "  <thead>\n",
       "    <tr style=\"text-align: right;\">\n",
       "      <th></th>\n",
       "      <th>rank</th>\n",
       "      <th>frequency</th>\n",
       "      <th>lemma</th>\n",
       "    </tr>\n",
       "  </thead>\n",
       "  <tbody>\n",
       "    <tr>\n",
       "      <th>21</th>\n",
       "      <td>22</td>\n",
       "      <td>5444.29</td>\n",
       "      <td>e</td>\n",
       "    </tr>\n",
       "    <tr>\n",
       "      <th>23</th>\n",
       "      <td>24</td>\n",
       "      <td>4590.55</td>\n",
       "      <td>o</td>\n",
       "    </tr>\n",
       "    <tr>\n",
       "      <th>24</th>\n",
       "      <td>25</td>\n",
       "      <td>4553.18</td>\n",
       "      <td>a</td>\n",
       "    </tr>\n",
       "    <tr>\n",
       "      <th>25</th>\n",
       "      <td>26</td>\n",
       "      <td>4248.50</td>\n",
       "      <td>t</td>\n",
       "    </tr>\n",
       "    <tr>\n",
       "      <th>31</th>\n",
       "      <td>32</td>\n",
       "      <td>3430.63</td>\n",
       "      <td>i</td>\n",
       "    </tr>\n",
       "  </tbody>\n",
       "</table>\n",
       "</div>"
      ],
      "text/plain": [
       "    rank  frequency lemma\n",
       "21    22    5444.29     e\n",
       "23    24    4590.55     o\n",
       "24    25    4553.18     a\n",
       "25    26    4248.50     t\n",
       "31    32    3430.63     i"
      ]
     },
     "execution_count": 7,
     "metadata": {},
     "output_type": "execute_result"
    }
   ],
   "source": [
    "# -----------------------------------------------------------------------------\n",
    "# #FILL IN - Inspecting the dataframe visually\n",
    "def match_basic_latin(s: pd.Series) -> pd.Series:\n",
    "    \"\"\"\n",
    "    U+0000 to U+007F is the Unicode block Basic Latin, based on ASCII. This\n",
    "    function finds all strings in a series whose characters are only taken from\n",
    "    this block.\n",
    "    \"\"\"\n",
    "    return s.str.fullmatch(r\"[\\u0000-\\u007F]+\")\n",
    "rtatman_is_basic_latin = match_basic_latin(rtatman_ranking['lemma'])\n",
    "rtatman_ranking.loc[rtatman_is_basic_latin].head()"
   ]
  },
  {
   "cell_type": "code",
   "execution_count": 8,
   "metadata": {},
   "outputs": [
    {
     "data": {
      "text/html": [
       "<div>\n",
       "<style scoped>\n",
       "    .dataframe tbody tr th:only-of-type {\n",
       "        vertical-align: middle;\n",
       "    }\n",
       "\n",
       "    .dataframe tbody tr th {\n",
       "        vertical-align: top;\n",
       "    }\n",
       "\n",
       "    .dataframe thead th {\n",
       "        text-align: right;\n",
       "    }\n",
       "</style>\n",
       "<table border=\"1\" class=\"dataframe\">\n",
       "  <thead>\n",
       "    <tr style=\"text-align: right;\">\n",
       "      <th></th>\n",
       "      <th>rank</th>\n",
       "      <th>frequency</th>\n",
       "      <th>lemma</th>\n",
       "    </tr>\n",
       "  </thead>\n",
       "  <tbody>\n",
       "    <tr>\n",
       "      <th>2549</th>\n",
       "      <td>2550</td>\n",
       "      <td>27.32</td>\n",
       "      <td>$</td>\n",
       "    </tr>\n",
       "    <tr>\n",
       "      <th>5006</th>\n",
       "      <td>5007</td>\n",
       "      <td>11.44</td>\n",
       "      <td>{</td>\n",
       "    </tr>\n",
       "    <tr>\n",
       "      <th>5144</th>\n",
       "      <td>5145</td>\n",
       "      <td>11.01</td>\n",
       "      <td>}</td>\n",
       "    </tr>\n",
       "    <tr>\n",
       "      <th>10775</th>\n",
       "      <td>10776</td>\n",
       "      <td>3.73</td>\n",
       "      <td>CAD</td>\n",
       "    </tr>\n",
       "    <tr>\n",
       "      <th>13045</th>\n",
       "      <td>13046</td>\n",
       "      <td>2.79</td>\n",
       "      <td>AU</td>\n",
       "    </tr>\n",
       "  </tbody>\n",
       "</table>\n",
       "</div>"
      ],
      "text/plain": [
       "        rank  frequency lemma\n",
       "2549    2550      27.32     $\n",
       "5006    5007      11.44     {\n",
       "5144    5145      11.01     }\n",
       "10775  10776       3.73   CAD\n",
       "13045  13046       2.79    AU"
      ]
     },
     "execution_count": 8,
     "metadata": {},
     "output_type": "execute_result"
    }
   ],
   "source": [
    "rtatman_ranking.loc[rtatman_is_basic_latin].tail()"
   ]
  },
  {
   "cell_type": "code",
   "execution_count": 9,
   "metadata": {
    "id": "-qfcocStzsKg"
   },
   "outputs": [
    {
     "data": {
      "text/plain": [
       "lemma\n",
       "False    14937\n",
       "True        63\n",
       "Name: count, dtype: int64"
      ]
     },
     "execution_count": 9,
     "metadata": {},
     "output_type": "execute_result"
    }
   ],
   "source": [
    "#FILL IN - Inspecting the dataframe programmatically\n",
    "rtatman_is_basic_latin.value_counts()"
   ]
  },
  {
   "cell_type": "markdown",
   "metadata": {},
   "source": [
    "Issue and justification: A number of the lemmas in Tatman's dataset are not specifically Japanese, though they're found in Japanese text. For our purposes, we'd like to narrow our focus to Japanese terms. We'll use the admittedly imperfect method of removing all lemmas whose characters are all found in the Basic Latin block of Unicode."
   ]
  },
  {
   "cell_type": "markdown",
   "metadata": {
    "id": "8Be77N4I1AmE"
   },
   "source": [
    "### Quality Issue 2:"
   ]
  },
  {
   "cell_type": "code",
   "execution_count": 10,
   "metadata": {
    "id": "iMhHyiyLM2I3"
   },
   "outputs": [],
   "source": [
    "#FILL IN - Inspecting the dataframe visually"
   ]
  },
  {
   "cell_type": "markdown",
   "metadata": {},
   "source": [
    "Saving part of the data in a CSV and opening in LibreOffice showed a number of rows where the values didn't align with the right columns. Closer inspection shows that in these rows, text data that should be in one cell is split into multiple cells. The break points seem to be on HTML entities."
   ]
  },
  {
   "cell_type": "code",
   "execution_count": 11,
   "metadata": {
    "id": "bnviRCUI-bb7"
   },
   "outputs": [
    {
     "data": {
      "text/markdown": [
       "焼肉してたら権力争いから逃げてきた王子様を拾いました。\n",
       "弱気なこの子をワイルドでロックに育て上げます！\n",
       "\n",
       "※この物語は、のちに狂犬と恐れられる男の誕生秘話である。\n",
       "\n",
       "\n",
       "\n",
       "辺境伯令嬢と王子様のほのぼのゆるゆるコメディ\n",
       "カクヨムさんでも投稿中\n",
       "\n",
       "※作品の無断転載、無断利用、無断使用などは絶対にしないでください。\n",
       "\n",
       "【皆様のおかげで総合日間<mark><b>&amp;amp;</b></mark>週間1位、月間総合5位ジャンル別3位、月間短編1位を獲得いたしました！レビュー、感想、評価ありがとうございます！】"
      ],
      "text/plain": [
       "<IPython.core.display.Markdown object>"
      ]
     },
     "metadata": {},
     "output_type": "display_data"
    }
   ],
   "source": [
    "from IPython.display import display, Markdown\n",
    "import re\n",
    "import html\n",
    "\n",
    "summaries = syosetu_df['story']\n",
    "has_entities = summaries.str.contains(\"&[a-z]+;\")\n",
    "with_entities = summaries.loc[has_entities]\n",
    "\n",
    "entity_example = with_entities.str.len().idxmin()\n",
    "text_with_entity = summaries.loc[entity_example]\n",
    "\n",
    "# Entities are visible if you just print the string, but I want to highlight\n",
    "# them, which will require display(). This unescapes entities, so we'll escape\n",
    "# the ampersands they start with again, so the entities still show up.\n",
    "def highlight_entities(s):\n",
    "    escaped = html.escape(s)\n",
    "    formatter = r'<mark><b>\\1</b></mark>'\n",
    "    highlighted = re.sub(f\"(&amp;[a-z]+;)\", formatter, escaped)\n",
    "    display(Markdown(highlighted))\n",
    "\n",
    "highlight_entities(text_with_entity)"
   ]
  },
  {
   "cell_type": "markdown",
   "metadata": {},
   "source": [
    "As you can see, this API seems to send text designed for web browsers, which is not ideal for our purposes. This can be considered an accuracy issue."
   ]
  },
  {
   "cell_type": "code",
   "execution_count": 12,
   "metadata": {},
   "outputs": [
    {
     "data": {
      "text/plain": [
       "56"
      ]
     },
     "execution_count": 12,
     "metadata": {},
     "output_type": "execute_result"
    }
   ],
   "source": [
    "#FILL IN - Inspecting the dataframe programmatically\n",
    "has_entities.sum()"
   ]
  },
  {
   "cell_type": "code",
   "execution_count": 13,
   "metadata": {},
   "outputs": [
    {
     "data": {
      "text/plain": [
       "story\n",
       "&quot;    60\n",
       "&amp;     35\n",
       "&lt;       7\n",
       "&gt;       7\n",
       "Name: count, dtype: int64"
      ]
     },
     "execution_count": 13,
     "metadata": {},
     "output_type": "execute_result"
    }
   ],
   "source": [
    "entities_found = with_entities.str.findall(\"&[a-z]+;\")\n",
    "entities_found.explode().value_counts()"
   ]
  },
  {
   "cell_type": "markdown",
   "metadata": {},
   "source": [
    "Four types of HTML entities were found: quote mark, ampersand, less-than, and greater-than. Replacing these should be a relatively simple task. The output of entities_found.explode().value_counts() adds to more than has_entities.sum() because of summaries having multiple HTML entities."
   ]
  },
  {
   "cell_type": "markdown",
   "metadata": {
    "id": "lXhGiYyiwwKN"
   },
   "source": [
    "### Tidiness Issue 1:"
   ]
  },
  {
   "cell_type": "code",
   "execution_count": 222,
   "metadata": {},
   "outputs": [
    {
     "data": {
      "text/plain": [
       "0         とんでもスキルで異世界放浪メシfhqwhgadsN2710DB\n",
       "1           転生したらスライムだった件fhqwhgadsN6316BN\n",
       "2    無職転生　- 異世界行ったら本気だす -fhqwhgadsN9669BK\n",
       "3          魔導具師ダリヤはうつむかないfhqwhgadsN7787EQ\n",
       "4            ありふれた職業で世界最強fhqwhgadsN8611BV\n",
       "Name: title_ncode, dtype: object"
      ]
     },
     "execution_count": 222,
     "metadata": {},
     "output_type": "execute_result"
    }
   ],
   "source": [
    "#FILL IN - Inspecting the dataframe visually\n",
    "syosetu_df['title_ncode'].head()"
   ]
  },
  {
   "cell_type": "code",
   "execution_count": 245,
   "metadata": {},
   "outputs": [
    {
     "data": {
      "text/plain": [
       "2000"
      ]
     },
     "execution_count": 245,
     "metadata": {},
     "output_type": "execute_result"
    }
   ],
   "source": [
    "#FILL IN - Inspecting the dataframe programmatically\n",
    "syosetu_df['title_ncode'].str.contains(r\"fhqwhgadsN\\d{4}[A-Z]+\", regex=True).sum()"
   ]
  },
  {
   "cell_type": "markdown",
   "metadata": {},
   "source": [
    "Issue and justification: For the purposes of demonstration, I've added a data tidiness issue by combining the \"title\" and \"ncode\" fields, thus violating the principle that each variable should be its own column. We'll want to split them back into two; we aren't using either right now, but requirements may change.\n",
    "\n",
    "The text I used to join them is distinct enough that we shouldn't need to worry about it being present in the data proper, so a simple Series.str.split() should do the job."
   ]
  },
  {
   "cell_type": "markdown",
   "metadata": {},
   "source": [
    "### Tidiness Issue 2: "
   ]
  },
  {
   "cell_type": "code",
   "execution_count": 14,
   "metadata": {
    "id": "fleC5rORI0Xl"
   },
   "outputs": [
    {
     "data": {
      "text/html": [
       "<div>\n",
       "<style scoped>\n",
       "    .dataframe tbody tr th:only-of-type {\n",
       "        vertical-align: middle;\n",
       "    }\n",
       "\n",
       "    .dataframe tbody tr th {\n",
       "        vertical-align: top;\n",
       "    }\n",
       "\n",
       "    .dataframe thead th {\n",
       "        text-align: right;\n",
       "    }\n",
       "</style>\n",
       "<table border=\"1\" class=\"dataframe\">\n",
       "  <thead>\n",
       "    <tr style=\"text-align: right;\">\n",
       "      <th></th>\n",
       "      <th>rank</th>\n",
       "      <th>frequency</th>\n",
       "      <th>lemma</th>\n",
       "    </tr>\n",
       "  </thead>\n",
       "  <tbody>\n",
       "    <tr>\n",
       "      <th>0</th>\n",
       "      <td>1</td>\n",
       "      <td>41309.50</td>\n",
       "      <td>の</td>\n",
       "    </tr>\n",
       "    <tr>\n",
       "      <th>1</th>\n",
       "      <td>2</td>\n",
       "      <td>23509.54</td>\n",
       "      <td>に</td>\n",
       "    </tr>\n",
       "    <tr>\n",
       "      <th>2</th>\n",
       "      <td>3</td>\n",
       "      <td>22216.80</td>\n",
       "      <td>は</td>\n",
       "    </tr>\n",
       "    <tr>\n",
       "      <th>3</th>\n",
       "      <td>4</td>\n",
       "      <td>20431.93</td>\n",
       "      <td>て</td>\n",
       "    </tr>\n",
       "    <tr>\n",
       "      <th>4</th>\n",
       "      <td>5</td>\n",
       "      <td>20326.59</td>\n",
       "      <td>を</td>\n",
       "    </tr>\n",
       "  </tbody>\n",
       "</table>\n",
       "</div>"
      ],
      "text/plain": [
       "   rank  frequency lemma\n",
       "0     1   41309.50     の\n",
       "1     2   23509.54     に\n",
       "2     3   22216.80     は\n",
       "3     4   20431.93     て\n",
       "4     5   20326.59     を"
      ]
     },
     "execution_count": 14,
     "metadata": {},
     "output_type": "execute_result"
    }
   ],
   "source": [
    "#FILL IN - Inspecting the dataframe visually\n",
    "rtatman_ranking.head()"
   ]
  },
  {
   "cell_type": "code",
   "execution_count": 15,
   "metadata": {
    "id": "BTuQw7Rbsio4"
   },
   "outputs": [
    {
     "name": "stdout",
     "output_type": "stream",
     "text": [
      "count    15000.000000\n",
      "mean         2.497267\n",
      "std          1.130934\n",
      "min          1.000000\n",
      "25%          2.000000\n",
      "50%          2.000000\n",
      "75%          3.000000\n",
      "max         12.000000\n",
      "Name: lemma, dtype: float64\n",
      "----------\n",
      "lemma\n",
      "1     1598\n",
      "2     8248\n",
      "3     2700\n",
      "4     1519\n",
      "5      594\n",
      "6      224\n",
      "7       77\n",
      "8       29\n",
      "9        8\n",
      "10       2\n",
      "12       1\n",
      "Name: count, dtype: int64\n"
     ]
    }
   ],
   "source": [
    "#FILL IN - Inspecting the dataframe programmatically\n",
    "lemma_lengths = rtatman_ranking['lemma'].str.len()\n",
    "print(lemma_lengths.describe())\n",
    "print(\"----------\")\n",
    "print(lemma_lengths.value_counts().sort_index())"
   ]
  },
  {
   "cell_type": "code",
   "execution_count": 224,
   "metadata": {},
   "outputs": [
    {
     "data": {
      "text/html": [
       "<div>\n",
       "<style scoped>\n",
       "    .dataframe tbody tr th:only-of-type {\n",
       "        vertical-align: middle;\n",
       "    }\n",
       "\n",
       "    .dataframe tbody tr th {\n",
       "        vertical-align: top;\n",
       "    }\n",
       "\n",
       "    .dataframe thead th {\n",
       "        text-align: right;\n",
       "    }\n",
       "</style>\n",
       "<table border=\"1\" class=\"dataframe\">\n",
       "  <thead>\n",
       "    <tr style=\"text-align: right;\">\n",
       "      <th></th>\n",
       "      <th>title_ncode</th>\n",
       "      <th>story</th>\n",
       "      <th>global_point</th>\n",
       "    </tr>\n",
       "  </thead>\n",
       "  <tbody>\n",
       "    <tr>\n",
       "      <th>0</th>\n",
       "      <td>とんでもスキルで異世界放浪メシfhqwhgadsN2710DB</td>\n",
       "      <td>★㊗アニメ２期決定！★\\n❖❖❖オーバーラップノベルス様より書籍１４巻まで発売中！　本編コミ...</td>\n",
       "      <td>911561</td>\n",
       "    </tr>\n",
       "    <tr>\n",
       "      <th>1</th>\n",
       "      <td>転生したらスライムだった件fhqwhgadsN6316BN</td>\n",
       "      <td>突然路上で通り魔に刺されて死んでしまった、37歳のナイスガイ。意識が戻って自分の身体を確かめ...</td>\n",
       "      <td>905049</td>\n",
       "    </tr>\n",
       "    <tr>\n",
       "      <th>2</th>\n",
       "      <td>無職転生　- 異世界行ったら本気だす -fhqwhgadsN9669BK</td>\n",
       "      <td>３４歳職歴無し住所不定無職童貞のニートは、ある日家を追い出され、人生を後悔している間にトラッ...</td>\n",
       "      <td>879492</td>\n",
       "    </tr>\n",
       "    <tr>\n",
       "      <th>3</th>\n",
       "      <td>魔導具師ダリヤはうつむかないfhqwhgadsN7787EQ</td>\n",
       "      <td>応援ありがとうございます！　アニメ7月6日より放映開始となりました。\\n「すまない、ダリヤ。...</td>\n",
       "      <td>731238</td>\n",
       "    </tr>\n",
       "    <tr>\n",
       "      <th>4</th>\n",
       "      <td>ありふれた職業で世界最強fhqwhgadsN8611BV</td>\n",
       "      <td>クラスごと異世界に召喚され、他のクラスメイトがチートなスペックと“天職”を有する中、一人平凡...</td>\n",
       "      <td>706332</td>\n",
       "    </tr>\n",
       "  </tbody>\n",
       "</table>\n",
       "</div>"
      ],
      "text/plain": [
       "                            title_ncode  \\\n",
       "0       とんでもスキルで異世界放浪メシfhqwhgadsN2710DB   \n",
       "1         転生したらスライムだった件fhqwhgadsN6316BN   \n",
       "2  無職転生　- 異世界行ったら本気だす -fhqwhgadsN9669BK   \n",
       "3        魔導具師ダリヤはうつむかないfhqwhgadsN7787EQ   \n",
       "4          ありふれた職業で世界最強fhqwhgadsN8611BV   \n",
       "\n",
       "                                               story  global_point  \n",
       "0  ★㊗アニメ２期決定！★\\n❖❖❖オーバーラップノベルス様より書籍１４巻まで発売中！　本編コミ...        911561  \n",
       "1  突然路上で通り魔に刺されて死んでしまった、37歳のナイスガイ。意識が戻って自分の身体を確かめ...        905049  \n",
       "2  ３４歳職歴無し住所不定無職童貞のニートは、ある日家を追い出され、人生を後悔している間にトラッ...        879492  \n",
       "3  応援ありがとうございます！　アニメ7月6日より放映開始となりました。\\n「すまない、ダリヤ。...        731238  \n",
       "4  クラスごと異世界に召喚され、他のクラスメイトがチートなスペックと“天職”を有する中、一人平凡...        706332  "
      ]
     },
     "execution_count": 224,
     "metadata": {},
     "output_type": "execute_result"
    }
   ],
   "source": [
    "syosetu_df.head()"
   ]
  },
  {
   "cell_type": "code",
   "execution_count": 236,
   "metadata": {},
   "outputs": [
    {
     "data": {
      "text/plain": [
       "7    8\n",
       "Name: title_ncode, dtype: int64"
      ]
     },
     "execution_count": 236,
     "metadata": {},
     "output_type": "execute_result"
    }
   ],
   "source": [
    "#syosetu_df.loc[syosetu_df['ncode']==\"N9636X\"]['title'].str.len()\n",
    "tn = syosetu_df['title_ncode']\n",
    "tn.loc[tn.str.endswith(\"N9636X\")].str.split(\"fhqwhgads\").str[0].str.len()"
   ]
  },
  {
   "cell_type": "markdown",
   "metadata": {},
   "source": [
    "Length of title 薬屋のひとりごと (\"Kusuriya no Hitorigoto\", or The Apothecary Diaries in English). The docs for pandas.Series.str.len() don't specify how \"length\" is defined, so this returning 8 confirms that it counts codepoints and not bytes, so Japanese characters are only counted once."
   ]
  },
  {
   "cell_type": "code",
   "execution_count": 18,
   "metadata": {},
   "outputs": [
    {
     "data": {
      "text/plain": [
       "count    2000.000000\n",
       "mean      389.223000\n",
       "std       186.285731\n",
       "min        15.000000\n",
       "25%       253.750000\n",
       "50%       358.500000\n",
       "75%       490.500000\n",
       "max      1000.000000\n",
       "Name: story, dtype: float64"
      ]
     },
     "execution_count": 18,
     "metadata": {},
     "output_type": "execute_result"
    }
   ],
   "source": [
    "syosetu_df['story'].str.len().describe()"
   ]
  },
  {
   "cell_type": "markdown",
   "metadata": {},
   "source": [
    "Issue and justification: Most lemmas in the dataset are only one or two characters, the longest being 12. The story summaries, meanwhile, range from 15 to 1,000 characters. Naturally, each summary uses much more than one lemma, meaning each row contains multiple observations.\n",
    "\n",
    "We will need to tokenize and lemmatize each text sample ourselves. This is non-trivial for Japanese, which lacks spaces, but libraries have been written for the task. After we have our lemmas, we will need to determine relative frequencies for comparison."
   ]
  },
  {
   "cell_type": "markdown",
   "metadata": {
    "id": "D6gmLnBttpCh"
   },
   "source": [
    "## 3. Clean data\n",
    "Clean the data to solve the 4 issues corresponding to data quality and tidiness found in the assessing step. **Make sure you include justifications for your cleaning decisions.**\n",
    "\n",
    "After the cleaning for each issue, please use **either** the visually or programatical method to validate the cleaning was succesful.\n",
    "\n",
    "At this stage, you are also expected to remove variables that are unnecessary for your analysis and combine your datasets. Depending on your datasets, you may choose to perform variable combination and elimination before or after the cleaning stage. Your dataset must have **at least** 4 variables after combining the data."
   ]
  },
  {
   "cell_type": "code",
   "execution_count": 238,
   "metadata": {},
   "outputs": [],
   "source": [
    "# FILL IN - Make copies of the datasets to ensure the raw dataframes \n",
    "# are not impacted\n",
    "syosetu_df_clean = syosetu_df.copy()\n",
    "rtatman_ranking_clean = rtatman_ranking.copy()"
   ]
  },
  {
   "cell_type": "markdown",
   "metadata": {
    "id": "FmFhN52Yyn3l"
   },
   "source": [
    "### **Quality Issue 1: FILL IN**"
   ]
  },
  {
   "cell_type": "code",
   "execution_count": 239,
   "metadata": {
    "id": "9UejDWrNMW4a"
   },
   "outputs": [],
   "source": [
    "# FILL IN - Apply the cleaning strategy\n",
    "rtatman_ranking_clean = rtatman_ranking_clean.loc[~rtatman_is_basic_latin]"
   ]
  },
  {
   "cell_type": "code",
   "execution_count": 240,
   "metadata": {
    "id": "oUBee-LPytkv"
   },
   "outputs": [
    {
     "data": {
      "text/plain": [
       "0"
      ]
     },
     "execution_count": 240,
     "metadata": {},
     "output_type": "execute_result"
    }
   ],
   "source": [
    "# FILL IN - Validate the cleaning was successful\n",
    "match_basic_latin(rtatman_ranking_clean['lemma']).sum()"
   ]
  },
  {
   "cell_type": "markdown",
   "metadata": {},
   "source": [
    "Justification: We already have a boolean Series from when we counted Basic-Latin-only lemmas in Tatman's ranking, so we just reuse that to strip those out."
   ]
  },
  {
   "cell_type": "markdown",
   "metadata": {
    "id": "n_DAUbJrymBL"
   },
   "source": [
    "### **Quality Issue 2: FILL IN**"
   ]
  },
  {
   "cell_type": "code",
   "execution_count": 241,
   "metadata": {
    "id": "5Yfb-Yu5MTuE"
   },
   "outputs": [],
   "source": [
    "#FILL IN - Apply the cleaning strategy\n",
    "ent_dict = {\n",
    "    '&lt;': '<',\n",
    "    '&gt;': '>',\n",
    "    '&quot;': '\"',\n",
    "    '&amp;': '&',\n",
    "}\n",
    "syosetu_df_clean['story'] = syosetu_df_clean['story'].replace(ent_dict, regex=True)\n",
    "# This might also work, but could be slower:\n",
    "# syosetu_df_clean['story'].apply(html.unescape)"
   ]
  },
  {
   "cell_type": "code",
   "execution_count": 242,
   "metadata": {
    "id": "ionB2sRaMUmY"
   },
   "outputs": [
    {
     "data": {
      "text/plain": [
       "1"
      ]
     },
     "execution_count": 242,
     "metadata": {},
     "output_type": "execute_result"
    }
   ],
   "source": [
    "#FILL IN - Validate the cleaning was successful\n",
    "syosetu_df_clean['story'].str.contains(\"&[a-z]+;\").sum()"
   ]
  },
  {
   "cell_type": "code",
   "execution_count": 243,
   "metadata": {},
   "outputs": [
    {
     "data": {
      "text/markdown": [
       "※ツギクルブックス様より、書籍第１巻発売中です！\n",
       "\n",
       "　田舎町でのスローライフを夢見てお金をため、いざスローライフをするぞと引越しをしていた道中で崖崩れにあい事故死してしまった。\n",
       "\n",
       "　しかし、その魂を拾い上げて自分の世界へ転生を持ち掛ける神様と出会う。\n",
       "\n",
       "　今までいた世界からエネルギーを分け与えてもらうパイプ役として、ただ健やかに生きていてほしいという条件で転生をもちかけられそれを承諾し、別世界での新しい人生が始まる。\n",
       "\n",
       "　次の人生では、今度こそスローライフをするぞと誓い、神様から様々な恩恵を貰って転生する。\n",
       "\n",
       "　転生ということで生まれ変わるという事を知っていたが、まだ自分の意志では動けない赤ん坊のころから意識があることに驚愕しつつも、仲の良い家族に愛されて育っていく。\n",
       "\n",
       "　神様からもらった恩恵や、精神が肉体に引っ張られてることがある関係でハプニングを起こすこともあるが、家族はそれを受け入れてくれてだいじに育てられていく。"
      ],
      "text/plain": [
       "<IPython.core.display.Markdown object>"
      ]
     },
     "metadata": {},
     "output_type": "display_data"
    }
   ],
   "source": [
    "highlight_entities(syosetu_df_clean['story'].loc[entity_example])"
   ]
  },
  {
   "cell_type": "markdown",
   "metadata": {},
   "source": [
    "Justification: Since we identified every HTML entity in use, it's feasible to manually write a dict to supply to Series.replace(). During testing, one summary was identified that still contained \"&amp;amp;\", for story N7423ER; this was confirmed as a case where the entity was visible reading the summary in the browser, and so it's counted here as part of the text."
   ]
  },
  {
   "cell_type": "markdown",
   "metadata": {
    "id": "bIUrrfSNyOPR"
   },
   "source": [
    "### **Tidiness Issue 1: FILL IN**"
   ]
  },
  {
   "cell_type": "code",
   "execution_count": 251,
   "metadata": {},
   "outputs": [],
   "source": [
    "#FILL IN - Apply the cleaning strategy\n",
    "title_ncode = syosetu_df_clean['title_ncode'].str.split(\"fhqwhgads\", expand=True)\n",
    "# title_ncode is now a dataframe with two columns, labeled 0 and 1, containing the data for our two fields.\n",
    "syosetu_df_clean = pd.DataFrame({\n",
    "    'title': title_ncode[0],\n",
    "    'ncode': title_ncode[1],\n",
    "    'story': syosetu_df_clean['story'],\n",
    "    'global_point': syosetu_df_clean['global_point']\n",
    "})"
   ]
  },
  {
   "cell_type": "code",
   "execution_count": 252,
   "metadata": {},
   "outputs": [
    {
     "data": {
      "text/html": [
       "<div>\n",
       "<style scoped>\n",
       "    .dataframe tbody tr th:only-of-type {\n",
       "        vertical-align: middle;\n",
       "    }\n",
       "\n",
       "    .dataframe tbody tr th {\n",
       "        vertical-align: top;\n",
       "    }\n",
       "\n",
       "    .dataframe thead th {\n",
       "        text-align: right;\n",
       "    }\n",
       "</style>\n",
       "<table border=\"1\" class=\"dataframe\">\n",
       "  <thead>\n",
       "    <tr style=\"text-align: right;\">\n",
       "      <th></th>\n",
       "      <th>title</th>\n",
       "      <th>ncode</th>\n",
       "      <th>story</th>\n",
       "      <th>global_point</th>\n",
       "    </tr>\n",
       "  </thead>\n",
       "  <tbody>\n",
       "    <tr>\n",
       "      <th>0</th>\n",
       "      <td>とんでもスキルで異世界放浪メシ</td>\n",
       "      <td>N2710DB</td>\n",
       "      <td>★㊗アニメ２期決定！★\\n❖❖❖オーバーラップノベルス様より書籍１４巻まで発売中！　本編コミ...</td>\n",
       "      <td>911561</td>\n",
       "    </tr>\n",
       "    <tr>\n",
       "      <th>1</th>\n",
       "      <td>転生したらスライムだった件</td>\n",
       "      <td>N6316BN</td>\n",
       "      <td>突然路上で通り魔に刺されて死んでしまった、37歳のナイスガイ。意識が戻って自分の身体を確かめ...</td>\n",
       "      <td>905049</td>\n",
       "    </tr>\n",
       "    <tr>\n",
       "      <th>2</th>\n",
       "      <td>無職転生　- 異世界行ったら本気だす -</td>\n",
       "      <td>N9669BK</td>\n",
       "      <td>３４歳職歴無し住所不定無職童貞のニートは、ある日家を追い出され、人生を後悔している間にトラッ...</td>\n",
       "      <td>879492</td>\n",
       "    </tr>\n",
       "    <tr>\n",
       "      <th>3</th>\n",
       "      <td>魔導具師ダリヤはうつむかない</td>\n",
       "      <td>N7787EQ</td>\n",
       "      <td>応援ありがとうございます！　アニメ7月6日より放映開始となりました。\\n「すまない、ダリヤ。...</td>\n",
       "      <td>731238</td>\n",
       "    </tr>\n",
       "    <tr>\n",
       "      <th>4</th>\n",
       "      <td>ありふれた職業で世界最強</td>\n",
       "      <td>N8611BV</td>\n",
       "      <td>クラスごと異世界に召喚され、他のクラスメイトがチートなスペックと“天職”を有する中、一人平凡...</td>\n",
       "      <td>706332</td>\n",
       "    </tr>\n",
       "  </tbody>\n",
       "</table>\n",
       "</div>"
      ],
      "text/plain": [
       "                  title    ncode  \\\n",
       "0       とんでもスキルで異世界放浪メシ  N2710DB   \n",
       "1         転生したらスライムだった件  N6316BN   \n",
       "2  無職転生　- 異世界行ったら本気だす -  N9669BK   \n",
       "3        魔導具師ダリヤはうつむかない  N7787EQ   \n",
       "4          ありふれた職業で世界最強  N8611BV   \n",
       "\n",
       "                                               story  global_point  \n",
       "0  ★㊗アニメ２期決定！★\\n❖❖❖オーバーラップノベルス様より書籍１４巻まで発売中！　本編コミ...        911561  \n",
       "1  突然路上で通り魔に刺されて死んでしまった、37歳のナイスガイ。意識が戻って自分の身体を確かめ...        905049  \n",
       "2  ３４歳職歴無し住所不定無職童貞のニートは、ある日家を追い出され、人生を後悔している間にトラッ...        879492  \n",
       "3  応援ありがとうございます！　アニメ7月6日より放映開始となりました。\\n「すまない、ダリヤ。...        731238  \n",
       "4  クラスごと異世界に召喚され、他のクラスメイトがチートなスペックと“天職”を有する中、一人平凡...        706332  "
      ]
     },
     "execution_count": 252,
     "metadata": {},
     "output_type": "execute_result"
    }
   ],
   "source": [
    "#FILL IN - Validate the cleaning was successful\n",
    "syosetu_df_clean.head()"
   ]
  },
  {
   "cell_type": "markdown",
   "metadata": {},
   "source": [
    "Justification: A simple Series.str.split() sufficed for this demonstration. For the sake of clarity, I decided to call the constructor to make a new DataFrame, showing just how each column comes from the old."
   ]
  },
  {
   "cell_type": "markdown",
   "metadata": {},
   "source": [
    "### **Tidiness Issue 2: FILL IN**"
   ]
  },
  {
   "cell_type": "code",
   "execution_count": 27,
   "metadata": {},
   "outputs": [],
   "source": [
    "#FILL IN - Apply the cleaning strategy\n",
    "import spacy\n",
    "\n",
    "# Must run `python -m spacy download ja_core_news_sm` first\n",
    "nlp = spacy.load(\"ja_core_news_sm\", enable=[\"lemmatizer\"])\n",
    "pipeline = nlp.pipe(syosetu_df_clean['story'])\n",
    "syosetu_lemmas = pd.Series(t.lemma_ for doc in pipeline for t in doc)\n",
    "# Side note, it really feels like it should be in this order:\n",
    "# (t.lemma_ for t in doc for doc in pipeline)"
   ]
  },
  {
   "cell_type": "markdown",
   "metadata": {},
   "source": [
    "We use the NLP library spaCy to lemmatize the summaries with the pipeline [ja_core_news_sm](https://spacy.io/models/ja#ja_core_news_sm). nlp.pipe() outputs an iterator of [Doc](https://spacy.io/api/doc) objects, each of which is a sequence of [Token](https://spacy.io/api/token) objects. We're only interested in lemmas, so we only enable the pipeline's lemmatizer and yield each token's lemma_ property as input for a new Pandas series."
   ]
  },
  {
   "cell_type": "code",
   "execution_count": 28,
   "metadata": {
    "id": "fib0zAm333bn"
   },
   "outputs": [
    {
     "data": {
      "text/html": [
       "<div>\n",
       "<style scoped>\n",
       "    .dataframe tbody tr th:only-of-type {\n",
       "        vertical-align: middle;\n",
       "    }\n",
       "\n",
       "    .dataframe tbody tr th {\n",
       "        vertical-align: top;\n",
       "    }\n",
       "\n",
       "    .dataframe thead th {\n",
       "        text-align: right;\n",
       "    }\n",
       "</style>\n",
       "<table border=\"1\" class=\"dataframe\">\n",
       "  <thead>\n",
       "    <tr style=\"text-align: right;\">\n",
       "      <th></th>\n",
       "      <th>rank</th>\n",
       "      <th>count</th>\n",
       "      <th>lemma</th>\n",
       "    </tr>\n",
       "  </thead>\n",
       "  <tbody>\n",
       "    <tr>\n",
       "      <th>0</th>\n",
       "      <td>1</td>\n",
       "      <td>19127</td>\n",
       "      <td>の</td>\n",
       "    </tr>\n",
       "    <tr>\n",
       "      <th>1</th>\n",
       "      <td>2</td>\n",
       "      <td>17873</td>\n",
       "      <td>、</td>\n",
       "    </tr>\n",
       "    <tr>\n",
       "      <th>2</th>\n",
       "      <td>3</td>\n",
       "      <td>16769</td>\n",
       "      <td>。</td>\n",
       "    </tr>\n",
       "    <tr>\n",
       "      <th>3</th>\n",
       "      <td>4</td>\n",
       "      <td>13488</td>\n",
       "      <td>に</td>\n",
       "    </tr>\n",
       "    <tr>\n",
       "      <th>4</th>\n",
       "      <td>5</td>\n",
       "      <td>13205</td>\n",
       "      <td>た</td>\n",
       "    </tr>\n",
       "  </tbody>\n",
       "</table>\n",
       "</div>"
      ],
      "text/plain": [
       "   rank  count lemma\n",
       "0     1  19127     の\n",
       "1     2  17873     、\n",
       "2     3  16769     。\n",
       "3     4  13488     に\n",
       "4     5  13205     た"
      ]
     },
     "execution_count": 28,
     "metadata": {},
     "output_type": "execute_result"
    }
   ],
   "source": [
    "syosetu_lemmas_df = syosetu_lemmas.value_counts().rename_axis(\n",
    "    'lemma').reset_index(name='count')\n",
    "syosetu_lemmas_df['rank'] = syosetu_lemmas_df.index + 1\n",
    "syosetu_lemmas_df = syosetu_lemmas_df[['rank', 'count', 'lemma']]\n",
    "syosetu_lemmas_df.head()"
   ]
  },
  {
   "cell_type": "code",
   "execution_count": 29,
   "metadata": {},
   "outputs": [
    {
     "name": "stdout",
     "output_type": "stream",
     "text": [
      "<class 'pandas.core.frame.DataFrame'>\n",
      "RangeIndex: 18556 entries, 0 to 18555\n",
      "Data columns (total 3 columns):\n",
      " #   Column  Non-Null Count  Dtype \n",
      "---  ------  --------------  ----- \n",
      " 0   rank    18556 non-null  int64 \n",
      " 1   count   18556 non-null  int64 \n",
      " 2   lemma   18556 non-null  object\n",
      "dtypes: int64(2), object(1)\n",
      "memory usage: 435.0+ KB\n"
     ]
    }
   ],
   "source": [
    "syosetu_lemmas_df.info()"
   ]
  },
  {
   "cell_type": "markdown",
   "metadata": {},
   "source": [
    "After a bit of juggling, we now have a new DataFrame with a similar layout to Tatman's dataset. Since the meaning of her `frequency` column is unclear, we just use `count`, an integer giving the number of times each lemma appears in our story summaries. This will make some comparisons harder, but we'll make do."
   ]
  },
  {
   "cell_type": "code",
   "execution_count": 30,
   "metadata": {},
   "outputs": [
    {
     "data": {
      "text/html": [
       "<div>\n",
       "<style scoped>\n",
       "    .dataframe tbody tr th:only-of-type {\n",
       "        vertical-align: middle;\n",
       "    }\n",
       "\n",
       "    .dataframe tbody tr th {\n",
       "        vertical-align: top;\n",
       "    }\n",
       "\n",
       "    .dataframe thead th {\n",
       "        text-align: right;\n",
       "    }\n",
       "</style>\n",
       "<table border=\"1\" class=\"dataframe\">\n",
       "  <thead>\n",
       "    <tr style=\"text-align: right;\">\n",
       "      <th></th>\n",
       "      <th>rank</th>\n",
       "      <th>count</th>\n",
       "      <th>lemma</th>\n",
       "    </tr>\n",
       "  </thead>\n",
       "  <tbody>\n",
       "    <tr>\n",
       "      <th>12</th>\n",
       "      <td>13</td>\n",
       "      <td>8210</td>\n",
       "      <td>\\n</td>\n",
       "    </tr>\n",
       "    <tr>\n",
       "      <th>15</th>\n",
       "      <td>16</td>\n",
       "      <td>4518</td>\n",
       "      <td>\\n\\n</td>\n",
       "    </tr>\n",
       "    <tr>\n",
       "      <th>16</th>\n",
       "      <td>17</td>\n",
       "      <td>4314</td>\n",
       "      <td>!</td>\n",
       "    </tr>\n",
       "    <tr>\n",
       "      <th>25</th>\n",
       "      <td>26</td>\n",
       "      <td>2226</td>\n",
       "      <td>/</td>\n",
       "    </tr>\n",
       "    <tr>\n",
       "      <th>39</th>\n",
       "      <td>40</td>\n",
       "      <td>1430</td>\n",
       "      <td>1</td>\n",
       "    </tr>\n",
       "    <tr>\n",
       "      <th>42</th>\n",
       "      <td>43</td>\n",
       "      <td>1393</td>\n",
       "      <td>?</td>\n",
       "    </tr>\n",
       "    <tr>\n",
       "      <th>49</th>\n",
       "      <td>50</td>\n",
       "      <td>1209</td>\n",
       "      <td>(</td>\n",
       "    </tr>\n",
       "    <tr>\n",
       "      <th>50</th>\n",
       "      <td>51</td>\n",
       "      <td>1205</td>\n",
       "      <td>)</td>\n",
       "    </tr>\n",
       "    <tr>\n",
       "      <th>67</th>\n",
       "      <td>68</td>\n",
       "      <td>837</td>\n",
       "      <td>.</td>\n",
       "    </tr>\n",
       "    <tr>\n",
       "      <th>74</th>\n",
       "      <td>75</td>\n",
       "      <td>707</td>\n",
       "      <td>2</td>\n",
       "    </tr>\n",
       "    <tr>\n",
       "      <th>91</th>\n",
       "      <td>92</td>\n",
       "      <td>566</td>\n",
       "      <td>3</td>\n",
       "    </tr>\n",
       "    <tr>\n",
       "      <th>95</th>\n",
       "      <td>96</td>\n",
       "      <td>544</td>\n",
       "      <td>:</td>\n",
       "    </tr>\n",
       "    <tr>\n",
       "      <th>99</th>\n",
       "      <td>100</td>\n",
       "      <td>528</td>\n",
       "      <td>~</td>\n",
       "    </tr>\n",
       "    <tr>\n",
       "      <th>126</th>\n",
       "      <td>127</td>\n",
       "      <td>427</td>\n",
       "      <td>5</td>\n",
       "    </tr>\n",
       "    <tr>\n",
       "      <th>138</th>\n",
       "      <td>139</td>\n",
       "      <td>393</td>\n",
       "      <td>4</td>\n",
       "    </tr>\n",
       "    <tr>\n",
       "      <th>140</th>\n",
       "      <td>141</td>\n",
       "      <td>389</td>\n",
       "      <td>*</td>\n",
       "    </tr>\n",
       "    <tr>\n",
       "      <th>151</th>\n",
       "      <td>152</td>\n",
       "      <td>351</td>\n",
       "      <td>10</td>\n",
       "    </tr>\n",
       "    <tr>\n",
       "      <th>163</th>\n",
       "      <td>164</td>\n",
       "      <td>318</td>\n",
       "      <td>\\n\\n\\n</td>\n",
       "    </tr>\n",
       "    <tr>\n",
       "      <th>173</th>\n",
       "      <td>174</td>\n",
       "      <td>300</td>\n",
       "      <td>6</td>\n",
       "    </tr>\n",
       "    <tr>\n",
       "      <th>193</th>\n",
       "      <td>194</td>\n",
       "      <td>265</td>\n",
       "      <td>7</td>\n",
       "    </tr>\n",
       "    <tr>\n",
       "      <th>204</th>\n",
       "      <td>205</td>\n",
       "      <td>250</td>\n",
       "      <td>8</td>\n",
       "    </tr>\n",
       "    <tr>\n",
       "      <th>206</th>\n",
       "      <td>207</td>\n",
       "      <td>249</td>\n",
       "      <td>12</td>\n",
       "    </tr>\n",
       "    <tr>\n",
       "      <th>212</th>\n",
       "      <td>213</td>\n",
       "      <td>238</td>\n",
       "      <td>9</td>\n",
       "    </tr>\n",
       "    <tr>\n",
       "      <th>237</th>\n",
       "      <td>238</td>\n",
       "      <td>214</td>\n",
       "      <td>15</td>\n",
       "    </tr>\n",
       "    <tr>\n",
       "      <th>247</th>\n",
       "      <td>248</td>\n",
       "      <td>205</td>\n",
       "      <td>&amp;</td>\n",
       "    </tr>\n",
       "    <tr>\n",
       "      <th>255</th>\n",
       "      <td>256</td>\n",
       "      <td>195</td>\n",
       "      <td>web</td>\n",
       "    </tr>\n",
       "    <tr>\n",
       "      <th>256</th>\n",
       "      <td>257</td>\n",
       "      <td>194</td>\n",
       "      <td>=</td>\n",
       "    </tr>\n",
       "    <tr>\n",
       "      <th>257</th>\n",
       "      <td>258</td>\n",
       "      <td>194</td>\n",
       "      <td>2024</td>\n",
       "    </tr>\n",
       "    <tr>\n",
       "      <th>271</th>\n",
       "      <td>272</td>\n",
       "      <td>182</td>\n",
       "      <td>11</td>\n",
       "    </tr>\n",
       "    <tr>\n",
       "      <th>279</th>\n",
       "      <td>280</td>\n",
       "      <td>175</td>\n",
       "      <td>2023</td>\n",
       "    </tr>\n",
       "  </tbody>\n",
       "</table>\n",
       "</div>"
      ],
      "text/plain": [
       "     rank  count   lemma\n",
       "12     13   8210      \\n\n",
       "15     16   4518    \\n\\n\n",
       "16     17   4314       !\n",
       "25     26   2226       /\n",
       "39     40   1430       1\n",
       "42     43   1393       ?\n",
       "49     50   1209       (\n",
       "50     51   1205       )\n",
       "67     68    837       .\n",
       "74     75    707       2\n",
       "91     92    566       3\n",
       "95     96    544       :\n",
       "99    100    528       ~\n",
       "126   127    427       5\n",
       "138   139    393       4\n",
       "140   141    389       *\n",
       "151   152    351      10\n",
       "163   164    318  \\n\\n\\n\n",
       "173   174    300       6\n",
       "193   194    265       7\n",
       "204   205    250       8\n",
       "206   207    249      12\n",
       "212   213    238       9\n",
       "237   238    214      15\n",
       "247   248    205       &\n",
       "255   256    195     web\n",
       "256   257    194       =\n",
       "257   258    194    2024\n",
       "271   272    182      11\n",
       "279   280    175    2023"
      ]
     },
     "execution_count": 30,
     "metadata": {},
     "output_type": "execute_result"
    }
   ],
   "source": [
    "syosetu_is_basic_latin = match_basic_latin(syosetu_lemmas_df['lemma'])\n",
    "syosetu_lemmas_df.loc[syosetu_is_basic_latin].head(30)"
   ]
  },
  {
   "cell_type": "markdown",
   "metadata": {},
   "source": [
    "Basic-Latin-only lemmas will need to be removed from our Shousetsuka ni Narou dataset too, especially since a good number of these are just whitespace. Fortunately, we already know how."
   ]
  },
  {
   "cell_type": "code",
   "execution_count": 31,
   "metadata": {},
   "outputs": [],
   "source": [
    "syosetu_lemmas_df = syosetu_lemmas_df.loc[~syosetu_is_basic_latin]"
   ]
  },
  {
   "cell_type": "code",
   "execution_count": 32,
   "metadata": {
    "id": "yhrnUGY_Nk8B"
   },
   "outputs": [
    {
     "name": "stdout",
     "output_type": "stream",
     "text": [
      "count    476517.000000\n",
      "mean          1.673884\n",
      "std           1.096879\n",
      "min           1.000000\n",
      "25%           1.000000\n",
      "50%           1.000000\n",
      "75%           2.000000\n",
      "max         350.000000\n",
      "dtype: float64\n",
      "----------\n",
      "1      253755\n",
      "2      164530\n",
      "3       35459\n",
      "4       13356\n",
      "5        5465\n",
      "6        2476\n",
      "7         605\n",
      "8         469\n",
      "9         113\n",
      "10         99\n",
      "11         71\n",
      "12         43\n",
      "13         38\n",
      "14         10\n",
      "15          7\n",
      "16          2\n",
      "19          4\n",
      "20          6\n",
      "22          4\n",
      "23          1\n",
      "28          1\n",
      "31          1\n",
      "59          1\n",
      "350         1\n",
      "Name: count, dtype: int64\n"
     ]
    }
   ],
   "source": [
    "#FILL IN - Validate the cleaning was successful\n",
    "lemma_lengths = syosetu_lemmas.str.len()\n",
    "print(lemma_lengths.describe())\n",
    "print(\"----------\")\n",
    "print(lemma_lengths.value_counts().sort_index())"
   ]
  },
  {
   "cell_type": "code",
   "execution_count": 33,
   "metadata": {},
   "outputs": [
    {
     "data": {
      "text/plain": [
       "lemma\n",
       "1      1304\n",
       "2      8716\n",
       "3      3384\n",
       "4      2218\n",
       "5      1032\n",
       "6       461\n",
       "7       146\n",
       "8        91\n",
       "9        34\n",
       "10       21\n",
       "11       10\n",
       "12        5\n",
       "13        7\n",
       "14        1\n",
       "15        2\n",
       "16        2\n",
       "20        3\n",
       "22        2\n",
       "23        1\n",
       "59        1\n",
       "350       1\n",
       "Name: count, dtype: int64"
      ]
     },
     "execution_count": 33,
     "metadata": {},
     "output_type": "execute_result"
    }
   ],
   "source": [
    "syosetu_lemmas_df['lemma'].str.len().value_counts().sort_index()"
   ]
  },
  {
   "cell_type": "markdown",
   "metadata": {},
   "source": [
    "Again, the majority of lemmas listed are 1-3 characters, though there are a few much longer ones."
   ]
  },
  {
   "cell_type": "code",
   "execution_count": 34,
   "metadata": {},
   "outputs": [
    {
     "data": {
      "text/html": [
       "<div>\n",
       "<style scoped>\n",
       "    .dataframe tbody tr th:only-of-type {\n",
       "        vertical-align: middle;\n",
       "    }\n",
       "\n",
       "    .dataframe tbody tr th {\n",
       "        vertical-align: top;\n",
       "    }\n",
       "\n",
       "    .dataframe thead th {\n",
       "        text-align: right;\n",
       "    }\n",
       "</style>\n",
       "<table border=\"1\" class=\"dataframe\">\n",
       "  <thead>\n",
       "    <tr style=\"text-align: right;\">\n",
       "      <th></th>\n",
       "      <th>rank</th>\n",
       "      <th>count</th>\n",
       "      <th>lemma</th>\n",
       "    </tr>\n",
       "  </thead>\n",
       "  <tbody>\n",
       "    <tr>\n",
       "      <th>8220</th>\n",
       "      <td>8221</td>\n",
       "      <td>2</td>\n",
       "      <td>——————————————————————</td>\n",
       "    </tr>\n",
       "    <tr>\n",
       "      <th>11517</th>\n",
       "      <td>11518</td>\n",
       "      <td>1</td>\n",
       "      <td>――――――――――――――――――――</td>\n",
       "    </tr>\n",
       "    <tr>\n",
       "      <th>11841</th>\n",
       "      <td>11842</td>\n",
       "      <td>1</td>\n",
       "      <td>ハイイイイイイイイイイイィィィィィィィィ</td>\n",
       "    </tr>\n",
       "    <tr>\n",
       "      <th>13810</th>\n",
       "      <td>13811</td>\n",
       "      <td>1</td>\n",
       "      <td>\\n　　　　　　　　　　　　　　　　　　　　　　　　　　\\n　\\n　\\n　　　　　　　　　　...</td>\n",
       "    </tr>\n",
       "    <tr>\n",
       "      <th>14036</th>\n",
       "      <td>14037</td>\n",
       "      <td>1</td>\n",
       "      <td>◦•◦•◦•◦•◦•◦•◦•◦•◦•◦•◦•◦•◦•◦•◦•◦•◦•◦•◦•◦•◦•◦•◦•...</td>\n",
       "    </tr>\n",
       "    <tr>\n",
       "      <th>17521</th>\n",
       "      <td>17522</td>\n",
       "      <td>1</td>\n",
       "      <td>◆◇◆◇◆◇◆◇◆◇◆◇◆◇◆◇◆◇◆◇</td>\n",
       "    </tr>\n",
       "    <tr>\n",
       "      <th>17602</th>\n",
       "      <td>17603</td>\n",
       "      <td>1</td>\n",
       "      <td>―――――――――――――――――――――――</td>\n",
       "    </tr>\n",
       "    <tr>\n",
       "      <th>18111</th>\n",
       "      <td>18112</td>\n",
       "      <td>1</td>\n",
       "      <td>◇◇◇◇◇◇◇◇◇◇◇◇◇◇◇◇◇◇◇◇◇◇</td>\n",
       "    </tr>\n",
       "  </tbody>\n",
       "</table>\n",
       "</div>"
      ],
      "text/plain": [
       "        rank  count                                              lemma\n",
       "8220    8221      2                             ——————————————————————\n",
       "11517  11518      1                               ――――――――――――――――――――\n",
       "11841  11842      1                               ハイイイイイイイイイイイィィィィィィィィ\n",
       "13810  13811      1  \\n　　　　　　　　　　　　　　　　　　　　　　　　　　\\n　\\n　\\n　　　　　　　　　　...\n",
       "14036  14037      1  ◦•◦•◦•◦•◦•◦•◦•◦•◦•◦•◦•◦•◦•◦•◦•◦•◦•◦•◦•◦•◦•◦•◦•...\n",
       "17521  17522      1                               ◆◇◆◇◆◇◆◇◆◇◆◇◆◇◆◇◆◇◆◇\n",
       "17602  17603      1                            ―――――――――――――――――――――――\n",
       "18111  18112      1                             ◇◇◇◇◇◇◇◇◇◇◇◇◇◇◇◇◇◇◇◇◇◇"
      ]
     },
     "execution_count": 34,
     "metadata": {},
     "output_type": "execute_result"
    }
   ],
   "source": [
    "syosetu_lemmas_df[syosetu_lemmas_df['lemma'].str.len() > 19]"
   ]
  },
  {
   "cell_type": "markdown",
   "metadata": {},
   "source": [
    "The longest lemmas found include visual dividers, whitespace, and URL components for tweets and Kadokawa URLs. Most of these should probably be filtered out too; in the interest of time, we'll focus on whitespace. (Effectively, we're solving a data quality issue created by how we solved a tidiness issue.)"
   ]
  },
  {
   "cell_type": "code",
   "execution_count": 52,
   "metadata": {},
   "outputs": [
    {
     "name": "stdout",
     "output_type": "stream",
     "text": [
      "Whitespace in rtatman_ranking_clean: 0\n",
      "Whitespace in syosetu_lemmas_df: 67\n",
      "----------\n",
      "lemma\n",
      "U+3000    551\n",
      "U+000A    127\n",
      "U+0020     11\n",
      "Name: count, dtype: int64\n",
      "dict_keys(['__name__', '__doc__', '__package__', '__loader__', '__spec__', '__builtin__', '__builtins__', '_ih', '_oh', '_dh', 'In', 'Out', 'get_ipython', 'exit', 'quit', 'open', '_', '__', '___', '__vsc_ipynb_file__', '_i', '_ii', '_iii', '_i1', 'pd', 'np', 'rtatman_ranking', '_1', '_i2', '_2', '_i3', 'requests', 'time', 'syosetu_api_fetch_ranking', 'syosetu_df', '_i4', '_4', '_i5', '_5', '_i6', '_i7', 'match_basic_latin', 'rtatman_is_basic_latin', '_7', '_i8', '_8', '_i9', '_9', '_i10', '_i11', 'display', 'Markdown', 're', 'html', 'summaries', 'has_entities', 'with_entities', 'entity_example', 'text_with_entity', 'highlight_entities', '_i12', '_12', '_i13', 'entities_found', '_13', '_i14', '_14', '_i15', 'lemma_lengths', '_i16', '_16', '_i17', '_17', '_i18', '_18', '_i19', '_i20', '_i21', 'syosetu_df_clean', 'rtatman_ranking_clean', '_i22', '_i23', '_23', '_i24', 'ent_dict', '_i25', '_25', '_i26', '_i27', 'spacy', 'nlp', 'pipeline', 'syosetu_lemmas', '_i28', 'syosetu_lemmas_df', '_28', '_i29', '_i30', 'syosetu_is_basic_latin', '_30', '_i31', '_i32', '_i33', '_33', '_i34', '_34', '_i35', '_i36', '_i37', '_37', '_i38', '_38', '_i39', 'combined_lemma_rankings', '_i40', '_40', '_i41', '_41', '_i42', 'ws_report', 'syosetu_lemma_col', 'ws_lemmas', 'ws_chars', 'ord_fmt', '_i43', '_i44', '_i45', '_i46', 'vc_idx_fmt', '_i47', '_i48', '_i49', '_i50', '_i51', '_i52'])\n"
     ]
    }
   ],
   "source": [
    "def ws_report(s: str, df: pd.DataFrame):\n",
    "    print(f\"Whitespace in {s}: {df['lemma'].str.isspace().sum()}\")\n",
    "\n",
    "ws_report(\"rtatman_ranking_clean\", rtatman_ranking_clean)\n",
    "ws_report(\"syosetu_lemmas_df\", syosetu_lemmas_df)\n",
    "print(\"----------\")\n",
    "\n",
    "syosetu_lemma_col = syosetu_lemmas_df['lemma']\n",
    "ws_lemmas = syosetu_lemma_col.str.isspace()\n",
    "ws_chars = syosetu_lemma_col.loc[ws_lemmas].apply(list).explode()\n",
    "# The index for .value_counts() will be a list of whitespace characters,\n",
    "# so we'll rename them to their codepoints before printing.\n",
    "print(ws_chars.value_counts().rename(index=lambda c: f\"U+{ord(c):04X}\"))"
   ]
  },
  {
   "cell_type": "markdown",
   "metadata": {},
   "source": [
    "U+3000 IDEOGRAPHIC SPACE (\"　\") is a whitespace character found in the [CJK Symbols and Punctuation](https://www.unicode.org/charts/nameslist/c_3000.html) block. The other two characters are ordinary newlines and spaces. Tatman's process apparently kept the dataset from having any whitespace-only lemmas; we'll follow suit."
   ]
  },
  {
   "cell_type": "code",
   "execution_count": 53,
   "metadata": {},
   "outputs": [
    {
     "name": "stdout",
     "output_type": "stream",
     "text": [
      "Whitespace in syosetu_lemmas_df: 0\n"
     ]
    }
   ],
   "source": [
    "syosetu_lemmas_df = syosetu_lemmas_df.loc[~ws_lemmas]\n",
    "ws_report(\"syosetu_lemmas_df\", syosetu_lemmas_df)"
   ]
  },
  {
   "cell_type": "markdown",
   "metadata": {},
   "source": [
    "### **Remove unnecessary variables and combine datasets**\n",
    "\n",
    "Depending on the datasets, you can also peform the combination before the cleaning steps."
   ]
  },
  {
   "cell_type": "code",
   "execution_count": 54,
   "metadata": {},
   "outputs": [
    {
     "data": {
      "text/html": [
       "<div>\n",
       "<style scoped>\n",
       "    .dataframe tbody tr th:only-of-type {\n",
       "        vertical-align: middle;\n",
       "    }\n",
       "\n",
       "    .dataframe tbody tr th {\n",
       "        vertical-align: top;\n",
       "    }\n",
       "\n",
       "    .dataframe thead th {\n",
       "        text-align: right;\n",
       "    }\n",
       "</style>\n",
       "<table border=\"1\" class=\"dataframe\">\n",
       "  <thead>\n",
       "    <tr style=\"text-align: right;\">\n",
       "      <th></th>\n",
       "      <th>syosetu_rank</th>\n",
       "      <th>count</th>\n",
       "      <th>lemma</th>\n",
       "    </tr>\n",
       "  </thead>\n",
       "  <tbody>\n",
       "    <tr>\n",
       "      <th>0</th>\n",
       "      <td>1</td>\n",
       "      <td>19127</td>\n",
       "      <td>の</td>\n",
       "    </tr>\n",
       "    <tr>\n",
       "      <th>1</th>\n",
       "      <td>2</td>\n",
       "      <td>17873</td>\n",
       "      <td>、</td>\n",
       "    </tr>\n",
       "    <tr>\n",
       "      <th>2</th>\n",
       "      <td>3</td>\n",
       "      <td>16769</td>\n",
       "      <td>。</td>\n",
       "    </tr>\n",
       "    <tr>\n",
       "      <th>3</th>\n",
       "      <td>4</td>\n",
       "      <td>13488</td>\n",
       "      <td>に</td>\n",
       "    </tr>\n",
       "    <tr>\n",
       "      <th>4</th>\n",
       "      <td>5</td>\n",
       "      <td>13205</td>\n",
       "      <td>た</td>\n",
       "    </tr>\n",
       "  </tbody>\n",
       "</table>\n",
       "</div>"
      ],
      "text/plain": [
       "   syosetu_rank  count lemma\n",
       "0             1  19127     の\n",
       "1             2  17873     、\n",
       "2             3  16769     。\n",
       "3             4  13488     に\n",
       "4             5  13205     た"
      ]
     },
     "execution_count": 54,
     "metadata": {},
     "output_type": "execute_result"
    }
   ],
   "source": [
    "syosetu_lemmas_df = syosetu_lemmas_df.rename(columns={'rank':'syosetu_rank'})\n",
    "syosetu_lemmas_df.head()"
   ]
  },
  {
   "cell_type": "code",
   "execution_count": 38,
   "metadata": {},
   "outputs": [
    {
     "data": {
      "text/html": [
       "<div>\n",
       "<style scoped>\n",
       "    .dataframe tbody tr th:only-of-type {\n",
       "        vertical-align: middle;\n",
       "    }\n",
       "\n",
       "    .dataframe tbody tr th {\n",
       "        vertical-align: top;\n",
       "    }\n",
       "\n",
       "    .dataframe thead th {\n",
       "        text-align: right;\n",
       "    }\n",
       "</style>\n",
       "<table border=\"1\" class=\"dataframe\">\n",
       "  <thead>\n",
       "    <tr style=\"text-align: right;\">\n",
       "      <th></th>\n",
       "      <th>rtatman_rank</th>\n",
       "      <th>frequency</th>\n",
       "      <th>lemma</th>\n",
       "    </tr>\n",
       "  </thead>\n",
       "  <tbody>\n",
       "    <tr>\n",
       "      <th>0</th>\n",
       "      <td>1</td>\n",
       "      <td>41309.50</td>\n",
       "      <td>の</td>\n",
       "    </tr>\n",
       "    <tr>\n",
       "      <th>1</th>\n",
       "      <td>2</td>\n",
       "      <td>23509.54</td>\n",
       "      <td>に</td>\n",
       "    </tr>\n",
       "    <tr>\n",
       "      <th>2</th>\n",
       "      <td>3</td>\n",
       "      <td>22216.80</td>\n",
       "      <td>は</td>\n",
       "    </tr>\n",
       "    <tr>\n",
       "      <th>3</th>\n",
       "      <td>4</td>\n",
       "      <td>20431.93</td>\n",
       "      <td>て</td>\n",
       "    </tr>\n",
       "    <tr>\n",
       "      <th>4</th>\n",
       "      <td>5</td>\n",
       "      <td>20326.59</td>\n",
       "      <td>を</td>\n",
       "    </tr>\n",
       "  </tbody>\n",
       "</table>\n",
       "</div>"
      ],
      "text/plain": [
       "   rtatman_rank  frequency lemma\n",
       "0             1   41309.50     の\n",
       "1             2   23509.54     に\n",
       "2             3   22216.80     は\n",
       "3             4   20431.93     て\n",
       "4             5   20326.59     を"
      ]
     },
     "execution_count": 38,
     "metadata": {},
     "output_type": "execute_result"
    }
   ],
   "source": [
    "rtatman_ranking_clean.rename(columns={'rank':'rtatman_rank'}, inplace=True)\n",
    "rtatman_ranking_clean.head()"
   ]
  },
  {
   "cell_type": "code",
   "execution_count": 55,
   "metadata": {},
   "outputs": [],
   "source": [
    "#FILL IN - Remove unnecessary variables and combine datasets\n",
    "combined_lemma_rankings = pd.merge(rtatman_ranking_clean,\n",
    "                                   syosetu_lemmas_df,\n",
    "                                   how=\"outer\", on=\"lemma\")\n",
    "# Alternatively, when renaming, we could assign the modified DFs to \"left\" and\n",
    "# \"right\". Then this call would fit on one line:\n",
    "#combined_lemma_rankings = pd.merge(left, right, how=\"outer\", on=\"lemma\")"
   ]
  },
  {
   "cell_type": "code",
   "execution_count": 58,
   "metadata": {},
   "outputs": [
    {
     "data": {
      "text/html": [
       "<div>\n",
       "<style scoped>\n",
       "    .dataframe tbody tr th:only-of-type {\n",
       "        vertical-align: middle;\n",
       "    }\n",
       "\n",
       "    .dataframe tbody tr th {\n",
       "        vertical-align: top;\n",
       "    }\n",
       "\n",
       "    .dataframe thead th {\n",
       "        text-align: right;\n",
       "    }\n",
       "</style>\n",
       "<table border=\"1\" class=\"dataframe\">\n",
       "  <thead>\n",
       "    <tr style=\"text-align: right;\">\n",
       "      <th></th>\n",
       "      <th>rtatman_rank</th>\n",
       "      <th>frequency</th>\n",
       "      <th>lemma</th>\n",
       "      <th>syosetu_rank</th>\n",
       "      <th>count</th>\n",
       "    </tr>\n",
       "  </thead>\n",
       "  <tbody>\n",
       "    <tr>\n",
       "      <th>2265</th>\n",
       "      <td>1.0</td>\n",
       "      <td>41309.50</td>\n",
       "      <td>の</td>\n",
       "      <td>1.0</td>\n",
       "      <td>19127.0</td>\n",
       "    </tr>\n",
       "    <tr>\n",
       "      <th>2182</th>\n",
       "      <td>2.0</td>\n",
       "      <td>23509.54</td>\n",
       "      <td>に</td>\n",
       "      <td>4.0</td>\n",
       "      <td>13488.0</td>\n",
       "    </tr>\n",
       "    <tr>\n",
       "      <th>2302</th>\n",
       "      <td>3.0</td>\n",
       "      <td>22216.80</td>\n",
       "      <td>は</td>\n",
       "      <td>7.0</td>\n",
       "      <td>11635.0</td>\n",
       "    </tr>\n",
       "    <tr>\n",
       "      <th>1906</th>\n",
       "      <td>4.0</td>\n",
       "      <td>20431.93</td>\n",
       "      <td>て</td>\n",
       "      <td>8.0</td>\n",
       "      <td>11510.0</td>\n",
       "    </tr>\n",
       "    <tr>\n",
       "      <th>3089</th>\n",
       "      <td>5.0</td>\n",
       "      <td>20326.59</td>\n",
       "      <td>を</td>\n",
       "      <td>6.0</td>\n",
       "      <td>11978.0</td>\n",
       "    </tr>\n",
       "  </tbody>\n",
       "</table>\n",
       "</div>"
      ],
      "text/plain": [
       "      rtatman_rank  frequency lemma  syosetu_rank    count\n",
       "2265           1.0   41309.50     の           1.0  19127.0\n",
       "2182           2.0   23509.54     に           4.0  13488.0\n",
       "2302           3.0   22216.80     は           7.0  11635.0\n",
       "1906           4.0   20431.93     て           8.0  11510.0\n",
       "3089           5.0   20326.59     を           6.0  11978.0"
      ]
     },
     "execution_count": 58,
     "metadata": {},
     "output_type": "execute_result"
    }
   ],
   "source": [
    "combined_lemma_rankings.sort_values(by='rtatman_rank').head()"
   ]
  },
  {
   "cell_type": "code",
   "execution_count": 60,
   "metadata": {},
   "outputs": [
    {
     "name": "stdout",
     "output_type": "stream",
     "text": [
      "<class 'pandas.core.frame.DataFrame'>\n",
      "RangeIndex: 24574 entries, 0 to 24573\n",
      "Data columns (total 5 columns):\n",
      " #   Column        Non-Null Count  Dtype  \n",
      "---  ------        --------------  -----  \n",
      " 0   rtatman_rank  14937 non-null  float64\n",
      " 1   frequency     14937 non-null  float64\n",
      " 2   lemma         24574 non-null  object \n",
      " 3   syosetu_rank  17375 non-null  float64\n",
      " 4   count         17375 non-null  float64\n",
      "dtypes: float64(4), object(1)\n",
      "memory usage: 960.1+ KB\n",
      "None\n",
      "----------\n",
      "rtatman_na  syosetu_na\n",
      "True        False         9637\n",
      "False       False         7738\n",
      "            True          7199\n",
      "Name: count, dtype: int64\n"
     ]
    }
   ],
   "source": [
    "print(combined_lemma_rankings.info())\n",
    "print(\"----------\")\n",
    "print(pd.DataFrame({\n",
    "    'rtatman_na': combined_lemma_rankings['rtatman_rank'].isna(),\n",
    "    'syosetu_na': combined_lemma_rankings['syosetu_rank'].isna(),\n",
    "}).value_counts())"
   ]
  },
  {
   "cell_type": "markdown",
   "metadata": {},
   "source": [
    "Interestingly, a large proportion of the lemmas in each dataset aren't found in the other."
   ]
  },
  {
   "cell_type": "markdown",
   "metadata": {
    "id": "F42urHuzttjF"
   },
   "source": [
    "## 4. Update your data store\n",
    "Update your local database/data store with the cleaned data, following best practices for storing your cleaned data:\n",
    "\n",
    "- Must maintain different instances / versions of data (raw and cleaned data)\n",
    "- Must name the dataset files informatively\n",
    "- Ensure both the raw and cleaned data is saved to your database/data store"
   ]
  },
  {
   "cell_type": "code",
   "execution_count": 61,
   "metadata": {
    "id": "V3uay7EJUV_L"
   },
   "outputs": [],
   "source": [
    "#FILL IN - saving data\n",
    "from datetime import datetime\n",
    "\n",
    "timestamp = datetime.now().strftime(\"%Y%m%d%H%M%S\")\n",
    "def csv_save(df: pd.DataFrame, name: str):\n",
    "    df.to_csv(f\"jp_{name}_{timestamp}.csv\", index=False)\n",
    "\n",
    "csv_save(combined_lemma_rankings, \"combined_lemma_rankings\")\n",
    "csv_save(syosetu_df, \"syosetu_summaries_raw\")\n",
    "# rtatman_ranking is already stored as a CSV."
   ]
  },
  {
   "cell_type": "markdown",
   "metadata": {
    "id": "cGy_yddGtzhM"
   },
   "source": [
    "## 5. Answer the research question\n",
    "\n",
    "### **5.1:** Define and answer the research question \n",
    "Going back to the problem statement in step 1, use the cleaned data to answer the question you raised. Produce **at least** two visualizations using the cleaned data and explain how they help you answer the question."
   ]
  },
  {
   "cell_type": "markdown",
   "metadata": {
    "id": "gjedE4s4ZkEd"
   },
   "source": [
    "*Research question:* How does the language used in popular Japanese webnovel summaries differ from how Japanese is used elsewhere?"
   ]
  },
  {
   "cell_type": "code",
   "execution_count": 92,
   "metadata": {
    "id": "Lkw3rW9kZmOm"
   },
   "outputs": [
    {
     "data": {
      "text/html": [
       "<div>\n",
       "<style scoped>\n",
       "    .dataframe tbody tr th:only-of-type {\n",
       "        vertical-align: middle;\n",
       "    }\n",
       "\n",
       "    .dataframe tbody tr th {\n",
       "        vertical-align: top;\n",
       "    }\n",
       "\n",
       "    .dataframe thead th {\n",
       "        text-align: right;\n",
       "    }\n",
       "</style>\n",
       "<table border=\"1\" class=\"dataframe\">\n",
       "  <thead>\n",
       "    <tr style=\"text-align: right;\">\n",
       "      <th></th>\n",
       "      <th>rtatman_rank</th>\n",
       "      <th>frequency</th>\n",
       "      <th>lemma</th>\n",
       "      <th>syosetu_rank</th>\n",
       "      <th>count</th>\n",
       "    </tr>\n",
       "  </thead>\n",
       "  <tbody>\n",
       "    <tr>\n",
       "      <th>216</th>\n",
       "      <td>NaN</td>\n",
       "      <td>NaN</td>\n",
       "      <td>、</td>\n",
       "      <td>2.0</td>\n",
       "      <td>17873.0</td>\n",
       "    </tr>\n",
       "    <tr>\n",
       "      <th>217</th>\n",
       "      <td>NaN</td>\n",
       "      <td>NaN</td>\n",
       "      <td>。</td>\n",
       "      <td>3.0</td>\n",
       "      <td>16769.0</td>\n",
       "    </tr>\n",
       "    <tr>\n",
       "      <th>4755</th>\n",
       "      <td>NaN</td>\n",
       "      <td>NaN</td>\n",
       "      <td>コミカライズ</td>\n",
       "      <td>61.0</td>\n",
       "      <td>943.0</td>\n",
       "    </tr>\n",
       "    <tr>\n",
       "      <th>9878</th>\n",
       "      <td>NaN</td>\n",
       "      <td>NaN</td>\n",
       "      <td>令嬢</td>\n",
       "      <td>70.0</td>\n",
       "      <td>800.0</td>\n",
       "    </tr>\n",
       "    <tr>\n",
       "      <th>1485</th>\n",
       "      <td>NaN</td>\n",
       "      <td>NaN</td>\n",
       "      <td>ず</td>\n",
       "      <td>111.0</td>\n",
       "      <td>468.0</td>\n",
       "    </tr>\n",
       "    <tr>\n",
       "      <th>11381</th>\n",
       "      <td>NaN</td>\n",
       "      <td>NaN</td>\n",
       "      <td>勇者</td>\n",
       "      <td>125.0</td>\n",
       "      <td>429.0</td>\n",
       "    </tr>\n",
       "    <tr>\n",
       "      <th>20743</th>\n",
       "      <td>NaN</td>\n",
       "      <td>NaN</td>\n",
       "      <td>聖女</td>\n",
       "      <td>132.0</td>\n",
       "      <td>409.0</td>\n",
       "    </tr>\n",
       "  </tbody>\n",
       "</table>\n",
       "</div>"
      ],
      "text/plain": [
       "       rtatman_rank  frequency   lemma  syosetu_rank    count\n",
       "216             NaN        NaN       、           2.0  17873.0\n",
       "217             NaN        NaN       。           3.0  16769.0\n",
       "4755            NaN        NaN  コミカライズ          61.0    943.0\n",
       "9878            NaN        NaN      令嬢          70.0    800.0\n",
       "1485            NaN        NaN       ず         111.0    468.0\n",
       "11381           NaN        NaN      勇者         125.0    429.0\n",
       "20743           NaN        NaN      聖女         132.0    409.0"
      ]
     },
     "execution_count": 92,
     "metadata": {},
     "output_type": "execute_result"
    }
   ],
   "source": [
    "#Visual 1 - FILL IN\n",
    "not_in_rtatman = combined_lemma_rankings['rtatman_rank'].isna()\n",
    "combined_lemma_rankings[not_in_rtatman].sort_values(by='syosetu_rank').head(7)"
   ]
  },
  {
   "cell_type": "markdown",
   "metadata": {},
   "source": [
    "The comma and full-stop characters seem to have been omitted from Tatman's dataset; ideally, we would want to omit them too. The next-most-common lemmas unique to the webnovel dataset, as of when I downloaded it, are as follows:\n",
    "\n",
    "1. \"Comicalize\", a [wasei-eigo](https://en.wikipedia.org/wiki/Wasei-eigo) term meaning the story has received a manga adaptation.\n",
    "2. \"[Reijou](https://jisho.org/word/%E4%BB%A4%E5%AC%A2)\", which can mean a young lady from a high-class family, a popular webnovel character type.\n",
    "3. \"[Zu](https://www.jlect.com/entry/1202/zu/)\", a grammatical particle roughly meaning \"without doing...\", most likely a lemmatization error.\n",
    "4. \"[Yuusha](https://jisho.org/word/%E5%8B%87%E8%80%85)\", meaning \"Hero\", often specifically a fantasy protagonist in the vein of the Dragon Quest games.\n",
    "5. \"[Seijo](https://jisho.org/word/%E8%81%96%E5%A5%B3)\", a female saint. Another popular webnovel character type, often given healing powers."
   ]
  },
  {
   "cell_type": "code",
   "execution_count": 209,
   "metadata": {},
   "outputs": [
    {
     "data": {
      "text/html": [
       "<div>\n",
       "<style scoped>\n",
       "    .dataframe tbody tr th:only-of-type {\n",
       "        vertical-align: middle;\n",
       "    }\n",
       "\n",
       "    .dataframe tbody tr th {\n",
       "        vertical-align: top;\n",
       "    }\n",
       "\n",
       "    .dataframe thead th {\n",
       "        text-align: right;\n",
       "    }\n",
       "</style>\n",
       "<table border=\"1\" class=\"dataframe\">\n",
       "  <thead>\n",
       "    <tr style=\"text-align: right;\">\n",
       "      <th></th>\n",
       "      <th>rtatman_rank</th>\n",
       "      <th>frequency</th>\n",
       "      <th>lemma</th>\n",
       "      <th>syosetu_rank</th>\n",
       "      <th>count</th>\n",
       "    </tr>\n",
       "  </thead>\n",
       "  <tbody>\n",
       "    <tr>\n",
       "      <th>24448</th>\n",
       "      <td>30.0</td>\n",
       "      <td>3689.19</td>\n",
       "      <td>）</td>\n",
       "      <td>NaN</td>\n",
       "      <td>NaN</td>\n",
       "    </tr>\n",
       "    <tr>\n",
       "      <th>24446</th>\n",
       "      <td>31.0</td>\n",
       "      <td>3652.90</td>\n",
       "      <td>（</td>\n",
       "      <td>NaN</td>\n",
       "      <td>NaN</td>\n",
       "    </tr>\n",
       "    <tr>\n",
       "      <th>1950</th>\n",
       "      <td>43.0</td>\n",
       "      <td>2190.45</td>\n",
       "      <td>という</td>\n",
       "      <td>NaN</td>\n",
       "      <td>NaN</td>\n",
       "    </tr>\n",
       "    <tr>\n",
       "      <th>24440</th>\n",
       "      <td>51.0</td>\n",
       "      <td>1923.23</td>\n",
       "      <td>！</td>\n",
       "      <td>NaN</td>\n",
       "      <td>NaN</td>\n",
       "    </tr>\n",
       "    <tr>\n",
       "      <th>24478</th>\n",
       "      <td>58.0</td>\n",
       "      <td>1516.78</td>\n",
       "      <td>？</td>\n",
       "      <td>NaN</td>\n",
       "      <td>NaN</td>\n",
       "    </tr>\n",
       "    <tr>\n",
       "      <th>1982</th>\n",
       "      <td>74.0</td>\n",
       "      <td>1186.32</td>\n",
       "      <td>として</td>\n",
       "      <td>NaN</td>\n",
       "      <td>NaN</td>\n",
       "    </tr>\n",
       "    <tr>\n",
       "      <th>24473</th>\n",
       "      <td>78.0</td>\n",
       "      <td>1149.99</td>\n",
       "      <td>：</td>\n",
       "      <td>NaN</td>\n",
       "      <td>NaN</td>\n",
       "    </tr>\n",
       "  </tbody>\n",
       "</table>\n",
       "</div>"
      ],
      "text/plain": [
       "       rtatman_rank  frequency lemma  syosetu_rank  count\n",
       "24448          30.0    3689.19     ）           NaN    NaN\n",
       "24446          31.0    3652.90     （           NaN    NaN\n",
       "1950           43.0    2190.45   という           NaN    NaN\n",
       "24440          51.0    1923.23     ！           NaN    NaN\n",
       "24478          58.0    1516.78     ？           NaN    NaN\n",
       "1982           74.0    1186.32   として           NaN    NaN\n",
       "24473          78.0    1149.99     ：           NaN    NaN"
      ]
     },
     "execution_count": 209,
     "metadata": {},
     "output_type": "execute_result"
    }
   ],
   "source": [
    "not_in_syosetu = combined_lemma_rankings['syosetu_rank'].isna()\n",
    "combined_lemma_rankings[not_in_syosetu].sort_values(by='rtatman_rank').head(7)"
   ]
  },
  {
   "cell_type": "markdown",
   "metadata": {},
   "source": [
    "The most common lemmas unique to Tatman's dataset include punctuation marks and grammatical particles not listed as lemmas in ours, for whatever reason. With more time, this could be normalized between the two."
   ]
  },
  {
   "cell_type": "code",
   "execution_count": 82,
   "metadata": {},
   "outputs": [],
   "source": [
    "in_both_mask = ~(not_in_rtatman | not_in_syosetu)\n",
    "in_both_datasets = combined_lemma_rankings.loc[in_both_mask].copy()\n",
    "rank_diff = in_both_datasets['syosetu_rank'] - in_both_datasets['rtatman_rank']\n",
    "in_both_datasets['rank_difference'] = rank_diff\n",
    "#in_both_datasets.eval(\"rank_difference=syosetu_rank-rtatman_rank\", inplace=True)\n",
    "#rank_diff = (lambda f:f['syosetu_rank']-f['rtatman_rank'])(in_both_datasets)\n",
    "in_both_datasets.sort_values(by='rank_difference', inplace=True)"
   ]
  },
  {
   "cell_type": "code",
   "execution_count": 83,
   "metadata": {},
   "outputs": [
    {
     "data": {
      "text/html": [
       "<div>\n",
       "<style scoped>\n",
       "    .dataframe tbody tr th:only-of-type {\n",
       "        vertical-align: middle;\n",
       "    }\n",
       "\n",
       "    .dataframe tbody tr th {\n",
       "        vertical-align: top;\n",
       "    }\n",
       "\n",
       "    .dataframe thead th {\n",
       "        text-align: right;\n",
       "    }\n",
       "</style>\n",
       "<table border=\"1\" class=\"dataframe\">\n",
       "  <thead>\n",
       "    <tr style=\"text-align: right;\">\n",
       "      <th></th>\n",
       "      <th>rtatman_rank</th>\n",
       "      <th>frequency</th>\n",
       "      <th>lemma</th>\n",
       "      <th>syosetu_rank</th>\n",
       "      <th>count</th>\n",
       "      <th>rank_difference</th>\n",
       "    </tr>\n",
       "  </thead>\n",
       "  <tbody>\n",
       "    <tr>\n",
       "      <th>4459</th>\n",
       "      <td>14962.0</td>\n",
       "      <td>2.25</td>\n",
       "      <td>ギルド</td>\n",
       "      <td>276.0</td>\n",
       "      <td>180.0</td>\n",
       "      <td>-14686.0</td>\n",
       "    </tr>\n",
       "    <tr>\n",
       "      <th>24305</th>\n",
       "      <td>14970.0</td>\n",
       "      <td>2.25</td>\n",
       "      <td>魔力</td>\n",
       "      <td>310.0</td>\n",
       "      <td>158.0</td>\n",
       "      <td>-14660.0</td>\n",
       "    </tr>\n",
       "    <tr>\n",
       "      <th>22553</th>\n",
       "      <td>14103.0</td>\n",
       "      <td>2.47</td>\n",
       "      <td>転生</td>\n",
       "      <td>93.0</td>\n",
       "      <td>556.0</td>\n",
       "      <td>-14010.0</td>\n",
       "    </tr>\n",
       "    <tr>\n",
       "      <th>15110</th>\n",
       "      <td>14165.0</td>\n",
       "      <td>2.45</td>\n",
       "      <td>悪役</td>\n",
       "      <td>178.0</td>\n",
       "      <td>289.0</td>\n",
       "      <td>-13987.0</td>\n",
       "    </tr>\n",
       "    <tr>\n",
       "      <th>11329</th>\n",
       "      <td>14456.0</td>\n",
       "      <td>2.38</td>\n",
       "      <td>加筆</td>\n",
       "      <td>701.0</td>\n",
       "      <td>64.0</td>\n",
       "      <td>-13755.0</td>\n",
       "    </tr>\n",
       "  </tbody>\n",
       "</table>\n",
       "</div>"
      ],
      "text/plain": [
       "       rtatman_rank  frequency lemma  syosetu_rank  count  rank_difference\n",
       "4459        14962.0       2.25   ギルド         276.0  180.0         -14686.0\n",
       "24305       14970.0       2.25    魔力         310.0  158.0         -14660.0\n",
       "22553       14103.0       2.47    転生          93.0  556.0         -14010.0\n",
       "15110       14165.0       2.45    悪役         178.0  289.0         -13987.0\n",
       "11329       14456.0       2.38    加筆         701.0   64.0         -13755.0"
      ]
     },
     "execution_count": 83,
     "metadata": {},
     "output_type": "execute_result"
    }
   ],
   "source": [
    "in_both_datasets.head()"
   ]
  },
  {
   "cell_type": "markdown",
   "metadata": {},
   "source": [
    "The lemmas that rank highest in the webnovel dataset compared to Tatman's include:\n",
    "\n",
    "1. \"Guild\", a loanword from English. Fantasy webnovels often feature an \"adventurer's guild\" that the protagonist may join.\n",
    "2. \"[Maryoku](https://jisho.org/word/%E9%AD%94%E5%8A%9B)\", or magic power.\n",
    "3. \"[Tensei](https://jisho.org/word/%E8%BB%A2%E7%94%9F)\", or reincarnation, a popular component for webnovel premises.\n",
    "4. \"[Akuyaku](https://jisho.org/word/%E6%82%AA%E5%BD%B9)\", the role of a villain. Since 2013, the combination of this with \"reijou\", above, has become a popular character type.\n",
    "5. \"[Kahitsu](https://jisho.org/word/%E5%8A%A0%E7%AD%86)\", revision or correction. Most likely indicates edits the author has made to the story."
   ]
  },
  {
   "cell_type": "code",
   "execution_count": 97,
   "metadata": {},
   "outputs": [
    {
     "name": "stdout",
     "output_type": "stream",
     "text": [
      "153 summaries with 'akuyaku'\n",
      "436 summaries with 'reijou'\n",
      "121 summaries with 'akuyaku reijou'\n"
     ]
    }
   ],
   "source": [
    "akuyaku = syosetu_df['story'].str.contains(\"悪役\").sum()\n",
    "reijou = syosetu_df['story'].str.contains(\"令嬢\").sum()\n",
    "akuyaku_reijou = syosetu_df['story'].str.contains(\"悪役令嬢\").sum()\n",
    "print(f\"{akuyaku} summaries with 'akuyaku'\")\n",
    "print(f\"{reijou} summaries with 'reijou'\")\n",
    "print(f\"{akuyaku_reijou} summaries with 'akuyaku reijou'\")"
   ]
  },
  {
   "cell_type": "code",
   "execution_count": 84,
   "metadata": {},
   "outputs": [
    {
     "data": {
      "text/html": [
       "<div>\n",
       "<style scoped>\n",
       "    .dataframe tbody tr th:only-of-type {\n",
       "        vertical-align: middle;\n",
       "    }\n",
       "\n",
       "    .dataframe tbody tr th {\n",
       "        vertical-align: top;\n",
       "    }\n",
       "\n",
       "    .dataframe thead th {\n",
       "        text-align: right;\n",
       "    }\n",
       "</style>\n",
       "<table border=\"1\" class=\"dataframe\">\n",
       "  <thead>\n",
       "    <tr style=\"text-align: right;\">\n",
       "      <th></th>\n",
       "      <th>rtatman_rank</th>\n",
       "      <th>frequency</th>\n",
       "      <th>lemma</th>\n",
       "      <th>syosetu_rank</th>\n",
       "      <th>count</th>\n",
       "      <th>rank_difference</th>\n",
       "    </tr>\n",
       "  </thead>\n",
       "  <tbody>\n",
       "    <tr>\n",
       "      <th>7831</th>\n",
       "      <td>2432.0</td>\n",
       "      <td>28.60</td>\n",
       "      <td>メモ</td>\n",
       "      <td>18386.0</td>\n",
       "      <td>1.0</td>\n",
       "      <td>15954.0</td>\n",
       "    </tr>\n",
       "    <tr>\n",
       "      <th>12543</th>\n",
       "      <td>465.0</td>\n",
       "      <td>155.93</td>\n",
       "      <td>国際</td>\n",
       "      <td>16566.0</td>\n",
       "      <td>1.0</td>\n",
       "      <td>16101.0</td>\n",
       "    </tr>\n",
       "    <tr>\n",
       "      <th>14526</th>\n",
       "      <td>1595.0</td>\n",
       "      <td>46.07</td>\n",
       "      <td>引用</td>\n",
       "      <td>17976.0</td>\n",
       "      <td>1.0</td>\n",
       "      <td>16381.0</td>\n",
       "    </tr>\n",
       "    <tr>\n",
       "      <th>19887</th>\n",
       "      <td>1318.0</td>\n",
       "      <td>57.34</td>\n",
       "      <td>秒</td>\n",
       "      <td>17828.0</td>\n",
       "      <td>1.0</td>\n",
       "      <td>16510.0</td>\n",
       "    </tr>\n",
       "    <tr>\n",
       "      <th>16556</th>\n",
       "      <td>507.0</td>\n",
       "      <td>141.00</td>\n",
       "      <td>昨日</td>\n",
       "      <td>18492.0</td>\n",
       "      <td>1.0</td>\n",
       "      <td>17985.0</td>\n",
       "    </tr>\n",
       "  </tbody>\n",
       "</table>\n",
       "</div>"
      ],
      "text/plain": [
       "       rtatman_rank  frequency lemma  syosetu_rank  count  rank_difference\n",
       "7831         2432.0      28.60    メモ       18386.0    1.0          15954.0\n",
       "12543         465.0     155.93    国際       16566.0    1.0          16101.0\n",
       "14526        1595.0      46.07    引用       17976.0    1.0          16381.0\n",
       "19887        1318.0      57.34     秒       17828.0    1.0          16510.0\n",
       "16556         507.0     141.00    昨日       18492.0    1.0          17985.0"
      ]
     },
     "execution_count": 84,
     "metadata": {},
     "output_type": "execute_result"
    }
   ],
   "source": [
    "in_both_datasets.tail()"
   ]
  },
  {
   "cell_type": "code",
   "execution_count": 86,
   "metadata": {},
   "outputs": [
    {
     "data": {
      "text/plain": [
       "1831"
      ]
     },
     "execution_count": 86,
     "metadata": {},
     "output_type": "execute_result"
    }
   ],
   "source": [
    "syosetu_singles = in_both_datasets['count']==1.0\n",
    "syosetu_singles.sum()"
   ]
  },
  {
   "cell_type": "markdown",
   "metadata": {},
   "source": [
    "A large number of lemmas common to both datasets only appear in the webnovel dataset once, limiting how meaningful the `syosetu_rank` field, and thus the `rank_difference` field, are for them. Instead, we'll narrow our focus to those lemmas and find the ones that rank highest in Tatman's dataset."
   ]
  },
  {
   "cell_type": "code",
   "execution_count": 94,
   "metadata": {},
   "outputs": [
    {
     "data": {
      "text/html": [
       "<div>\n",
       "<style scoped>\n",
       "    .dataframe tbody tr th:only-of-type {\n",
       "        vertical-align: middle;\n",
       "    }\n",
       "\n",
       "    .dataframe tbody tr th {\n",
       "        vertical-align: top;\n",
       "    }\n",
       "\n",
       "    .dataframe thead th {\n",
       "        text-align: right;\n",
       "    }\n",
       "</style>\n",
       "<table border=\"1\" class=\"dataframe\">\n",
       "  <thead>\n",
       "    <tr style=\"text-align: right;\">\n",
       "      <th></th>\n",
       "      <th>rtatman_rank</th>\n",
       "      <th>frequency</th>\n",
       "      <th>lemma</th>\n",
       "      <th>syosetu_rank</th>\n",
       "      <th>count</th>\n",
       "      <th>rank_difference</th>\n",
       "    </tr>\n",
       "  </thead>\n",
       "  <tbody>\n",
       "    <tr>\n",
       "      <th>10848</th>\n",
       "      <td>310.0</td>\n",
       "      <td>229.48</td>\n",
       "      <td>写真</td>\n",
       "      <td>16211.0</td>\n",
       "      <td>1.0</td>\n",
       "      <td>15901.0</td>\n",
       "    </tr>\n",
       "    <tr>\n",
       "      <th>7873</th>\n",
       "      <td>396.0</td>\n",
       "      <td>182.73</td>\n",
       "      <td>メール</td>\n",
       "      <td>15706.0</td>\n",
       "      <td>1.0</td>\n",
       "      <td>15310.0</td>\n",
       "    </tr>\n",
       "    <tr>\n",
       "      <th>12543</th>\n",
       "      <td>465.0</td>\n",
       "      <td>155.93</td>\n",
       "      <td>国際</td>\n",
       "      <td>16566.0</td>\n",
       "      <td>1.0</td>\n",
       "      <td>16101.0</td>\n",
       "    </tr>\n",
       "    <tr>\n",
       "      <th>16556</th>\n",
       "      <td>507.0</td>\n",
       "      <td>141.00</td>\n",
       "      <td>昨日</td>\n",
       "      <td>18492.0</td>\n",
       "      <td>1.0</td>\n",
       "      <td>17985.0</td>\n",
       "    </tr>\n",
       "    <tr>\n",
       "      <th>10217</th>\n",
       "      <td>533.0</td>\n",
       "      <td>136.52</td>\n",
       "      <td>価格</td>\n",
       "      <td>12181.0</td>\n",
       "      <td>1.0</td>\n",
       "      <td>11648.0</td>\n",
       "    </tr>\n",
       "    <tr>\n",
       "      <th>15624</th>\n",
       "      <td>534.0</td>\n",
       "      <td>136.15</td>\n",
       "      <td>投資</td>\n",
       "      <td>11851.0</td>\n",
       "      <td>1.0</td>\n",
       "      <td>11317.0</td>\n",
       "    </tr>\n",
       "    <tr>\n",
       "      <th>10194</th>\n",
       "      <td>592.0</td>\n",
       "      <td>124.62</td>\n",
       "      <td>例</td>\n",
       "      <td>11717.0</td>\n",
       "      <td>1.0</td>\n",
       "      <td>11125.0</td>\n",
       "    </tr>\n",
       "    <tr>\n",
       "      <th>16094</th>\n",
       "      <td>614.0</td>\n",
       "      <td>121.06</td>\n",
       "      <td>政策</td>\n",
       "      <td>13154.0</td>\n",
       "      <td>1.0</td>\n",
       "      <td>12540.0</td>\n",
       "    </tr>\n",
       "    <tr>\n",
       "      <th>19394</th>\n",
       "      <td>631.0</td>\n",
       "      <td>116.41</td>\n",
       "      <td>監督</td>\n",
       "      <td>14662.0</td>\n",
       "      <td>1.0</td>\n",
       "      <td>14031.0</td>\n",
       "    </tr>\n",
       "    <tr>\n",
       "      <th>4464</th>\n",
       "      <td>654.0</td>\n",
       "      <td>112.39</td>\n",
       "      <td>ク</td>\n",
       "      <td>11411.0</td>\n",
       "      <td>1.0</td>\n",
       "      <td>10757.0</td>\n",
       "    </tr>\n",
       "  </tbody>\n",
       "</table>\n",
       "</div>"
      ],
      "text/plain": [
       "       rtatman_rank  frequency lemma  syosetu_rank  count  rank_difference\n",
       "10848         310.0     229.48    写真       16211.0    1.0          15901.0\n",
       "7873          396.0     182.73   メール       15706.0    1.0          15310.0\n",
       "12543         465.0     155.93    国際       16566.0    1.0          16101.0\n",
       "16556         507.0     141.00    昨日       18492.0    1.0          17985.0\n",
       "10217         533.0     136.52    価格       12181.0    1.0          11648.0\n",
       "15624         534.0     136.15    投資       11851.0    1.0          11317.0\n",
       "10194         592.0     124.62     例       11717.0    1.0          11125.0\n",
       "16094         614.0     121.06    政策       13154.0    1.0          12540.0\n",
       "19394         631.0     116.41    監督       14662.0    1.0          14031.0\n",
       "4464          654.0     112.39     ク       11411.0    1.0          10757.0"
      ]
     },
     "execution_count": 94,
     "metadata": {},
     "output_type": "execute_result"
    }
   ],
   "source": [
    "in_both_datasets[syosetu_singles].sort_values(by='rtatman_rank').head(10)"
   ]
  },
  {
   "cell_type": "markdown",
   "metadata": {},
   "source": [
    "The most common lemmas in Tatman's dataset that only appear once in the webnovel dataset are:\n",
    "\n",
    "1. \"[Shashin](https://jisho.org/word/%E5%86%99%E7%9C%9F)\", or photograph.\n",
    "2. \"[Meeru](https://jisho.org/word/%E3%83%A1%E3%83%BC%E3%83%AB)\", pronounced with a longer version of the E in \"bed\". From the English \"mail\", meaning email or text message.\n",
    "3. \"[Kokusai](https://jisho.org/word/%E5%9B%BD%E9%9A%9B)\", or international.\n",
    "4. \"[Kinou](https://jisho.org/word/%E6%98%A8%E6%97%A5)\", or yesterday.\n",
    "5. \"[Kakaku](https://jisho.org/word/%E4%BE%A1%E6%A0%BC)\", meaning price or cost.\n",
    "6. \"[Toushi](https://jisho.org/word/%E6%8A%95%E8%B3%87)\", investment.\n",
    "7. \"[Rei](https://jisho.org/word/%E4%BE%8B)\", example or precedent.\n",
    "8. \"[Seisaku](https://jisho.org/word/%E6%94%BF%E7%AD%96)\", policy.\n",
    "9. \"[Kantoku](https://jisho.org/word/%E7%9B%A3%E7%9D%A3)\", supervision or direction, or a supervisor or director.\n",
    "10. \"Ku\", a phonetic katakana character with no specific meaning."
   ]
  },
  {
   "cell_type": "code",
   "execution_count": 177,
   "metadata": {},
   "outputs": [
    {
     "data": {
      "text/plain": [
       "<Axes: xlabel=\"Frequency in Tatman's dataset\", ylabel='Occurences in Narou dataset'>"
      ]
     },
     "execution_count": 177,
     "metadata": {},
     "output_type": "execute_result"
    },
    {
     "data": {
      "image/png": "[encoded data removed]",
      "text/plain": [
       "<Figure size 640x480 with 2 Axes>"
      ]
     },
     "metadata": {},
     "output_type": "display_data"
    }
   ],
   "source": [
    "to_chart = in_both_datasets.copy()\n",
    "to_chart['count_over_frequency'] = to_chart['count']/to_chart['frequency']\n",
    "#to_chart.eval(\"count_over_frequency = count/frequency\", inplace=True)\n",
    "to_chart = to_chart.sort_values(by=['count_over_frequency'])\n",
    "\n",
    "color_data = np.zeros_like(to_chart['count'])\n",
    "color_data[:10] = 1\n",
    "color_data[-10:] = -1\n",
    "to_chart.plot.scatter(x='frequency', y='count', loglog=True,\n",
    "                      colormap='plasma', c=color_data,\n",
    "                      xlabel=\"Frequency in Tatman's dataset\",\n",
    "                      ylabel=\"Occurences in Narou dataset\")"
   ]
  },
  {
   "cell_type": "markdown",
   "metadata": {},
   "source": [
    "A scatter chart with a log-log scale will be of use in seeing how lemma frequency is correlated in each dataset -- closely at the top end, with universal grammatical features, but with wide divergence in the less common terms. Points are colored so as to highlight some that are especially characteristic of one dataset or the other, as measured by ratio of their frequencies, rather than difference in ranking. These points are worth examining more closely."
   ]
  },
  {
   "cell_type": "code",
   "execution_count": 171,
   "metadata": {},
   "outputs": [
    {
     "data": {
      "text/html": [
       "<div>\n",
       "<style scoped>\n",
       "    .dataframe tbody tr th:only-of-type {\n",
       "        vertical-align: middle;\n",
       "    }\n",
       "\n",
       "    .dataframe tbody tr th {\n",
       "        vertical-align: top;\n",
       "    }\n",
       "\n",
       "    .dataframe thead th {\n",
       "        text-align: right;\n",
       "    }\n",
       "</style>\n",
       "<table border=\"1\" class=\"dataframe\">\n",
       "  <thead>\n",
       "    <tr style=\"text-align: right;\">\n",
       "      <th></th>\n",
       "      <th>rtatman_rank</th>\n",
       "      <th>frequency</th>\n",
       "      <th>lemma</th>\n",
       "      <th>syosetu_rank</th>\n",
       "      <th>count</th>\n",
       "      <th>rank_difference</th>\n",
       "      <th>count_over_frequency</th>\n",
       "    </tr>\n",
       "  </thead>\n",
       "  <tbody>\n",
       "    <tr>\n",
       "      <th>10848</th>\n",
       "      <td>310.0</td>\n",
       "      <td>229.48</td>\n",
       "      <td>写真</td>\n",
       "      <td>16211.0</td>\n",
       "      <td>1.0</td>\n",
       "      <td>15901.0</td>\n",
       "      <td>0.004358</td>\n",
       "    </tr>\n",
       "    <tr>\n",
       "      <th>7873</th>\n",
       "      <td>396.0</td>\n",
       "      <td>182.73</td>\n",
       "      <td>メール</td>\n",
       "      <td>15706.0</td>\n",
       "      <td>1.0</td>\n",
       "      <td>15310.0</td>\n",
       "      <td>0.005473</td>\n",
       "    </tr>\n",
       "    <tr>\n",
       "      <th>12543</th>\n",
       "      <td>465.0</td>\n",
       "      <td>155.93</td>\n",
       "      <td>国際</td>\n",
       "      <td>16566.0</td>\n",
       "      <td>1.0</td>\n",
       "      <td>16101.0</td>\n",
       "      <td>0.006413</td>\n",
       "    </tr>\n",
       "    <tr>\n",
       "      <th>16556</th>\n",
       "      <td>507.0</td>\n",
       "      <td>141.00</td>\n",
       "      <td>昨日</td>\n",
       "      <td>18492.0</td>\n",
       "      <td>1.0</td>\n",
       "      <td>17985.0</td>\n",
       "      <td>0.007092</td>\n",
       "    </tr>\n",
       "    <tr>\n",
       "      <th>10217</th>\n",
       "      <td>533.0</td>\n",
       "      <td>136.52</td>\n",
       "      <td>価格</td>\n",
       "      <td>12181.0</td>\n",
       "      <td>1.0</td>\n",
       "      <td>11648.0</td>\n",
       "      <td>0.007325</td>\n",
       "    </tr>\n",
       "    <tr>\n",
       "      <th>15624</th>\n",
       "      <td>534.0</td>\n",
       "      <td>136.15</td>\n",
       "      <td>投資</td>\n",
       "      <td>11851.0</td>\n",
       "      <td>1.0</td>\n",
       "      <td>11317.0</td>\n",
       "      <td>0.007345</td>\n",
       "    </tr>\n",
       "    <tr>\n",
       "      <th>13326</th>\n",
       "      <td>192.0</td>\n",
       "      <td>404.21</td>\n",
       "      <td>委員</td>\n",
       "      <td>6351.0</td>\n",
       "      <td>3.0</td>\n",
       "      <td>6159.0</td>\n",
       "      <td>0.007422</td>\n",
       "    </tr>\n",
       "    <tr>\n",
       "      <th>10194</th>\n",
       "      <td>592.0</td>\n",
       "      <td>124.62</td>\n",
       "      <td>例</td>\n",
       "      <td>11717.0</td>\n",
       "      <td>1.0</td>\n",
       "      <td>11125.0</td>\n",
       "      <td>0.008024</td>\n",
       "    </tr>\n",
       "    <tr>\n",
       "      <th>16094</th>\n",
       "      <td>614.0</td>\n",
       "      <td>121.06</td>\n",
       "      <td>政策</td>\n",
       "      <td>13154.0</td>\n",
       "      <td>1.0</td>\n",
       "      <td>12540.0</td>\n",
       "      <td>0.008260</td>\n",
       "    </tr>\n",
       "    <tr>\n",
       "      <th>19394</th>\n",
       "      <td>631.0</td>\n",
       "      <td>116.41</td>\n",
       "      <td>監督</td>\n",
       "      <td>14662.0</td>\n",
       "      <td>1.0</td>\n",
       "      <td>14031.0</td>\n",
       "      <td>0.008590</td>\n",
       "    </tr>\n",
       "  </tbody>\n",
       "</table>\n",
       "</div>"
      ],
      "text/plain": [
       "       rtatman_rank  frequency lemma  syosetu_rank  count  rank_difference  \\\n",
       "10848         310.0     229.48    写真       16211.0    1.0          15901.0   \n",
       "7873          396.0     182.73   メール       15706.0    1.0          15310.0   \n",
       "12543         465.0     155.93    国際       16566.0    1.0          16101.0   \n",
       "16556         507.0     141.00    昨日       18492.0    1.0          17985.0   \n",
       "10217         533.0     136.52    価格       12181.0    1.0          11648.0   \n",
       "15624         534.0     136.15    投資       11851.0    1.0          11317.0   \n",
       "13326         192.0     404.21    委員        6351.0    3.0           6159.0   \n",
       "10194         592.0     124.62     例       11717.0    1.0          11125.0   \n",
       "16094         614.0     121.06    政策       13154.0    1.0          12540.0   \n",
       "19394         631.0     116.41    監督       14662.0    1.0          14031.0   \n",
       "\n",
       "       count_over_frequency  \n",
       "10848              0.004358  \n",
       "7873               0.005473  \n",
       "12543              0.006413  \n",
       "16556              0.007092  \n",
       "10217              0.007325  \n",
       "15624              0.007345  \n",
       "13326              0.007422  \n",
       "10194              0.008024  \n",
       "16094              0.008260  \n",
       "19394              0.008590  "
      ]
     },
     "execution_count": 171,
     "metadata": {},
     "output_type": "execute_result"
    }
   ],
   "source": [
    "to_chart.head(10)"
   ]
  },
  {
   "cell_type": "code",
   "execution_count": 167,
   "metadata": {},
   "outputs": [
    {
     "data": {
      "text/html": [
       "<div>\n",
       "<style scoped>\n",
       "    .dataframe tbody tr th:only-of-type {\n",
       "        vertical-align: middle;\n",
       "    }\n",
       "\n",
       "    .dataframe tbody tr th {\n",
       "        vertical-align: top;\n",
       "    }\n",
       "\n",
       "    .dataframe thead th {\n",
       "        text-align: right;\n",
       "    }\n",
       "</style>\n",
       "<table border=\"1\" class=\"dataframe\">\n",
       "  <thead>\n",
       "    <tr style=\"text-align: right;\">\n",
       "      <th></th>\n",
       "      <th>rtatman_rank</th>\n",
       "      <th>frequency</th>\n",
       "      <th>lemma</th>\n",
       "      <th>syosetu_rank</th>\n",
       "      <th>count</th>\n",
       "      <th>rank_difference</th>\n",
       "      <th>count_over_frequency</th>\n",
       "    </tr>\n",
       "  </thead>\n",
       "  <tbody>\n",
       "    <tr>\n",
       "      <th>22553</th>\n",
       "      <td>14103.0</td>\n",
       "      <td>2.47</td>\n",
       "      <td>転生</td>\n",
       "      <td>93.0</td>\n",
       "      <td>556.0</td>\n",
       "      <td>-14010.0</td>\n",
       "      <td>225.101215</td>\n",
       "    </tr>\n",
       "    <tr>\n",
       "      <th>13353</th>\n",
       "      <td>9316.0</td>\n",
       "      <td>4.64</td>\n",
       "      <td>婚約</td>\n",
       "      <td>59.0</td>\n",
       "      <td>1003.0</td>\n",
       "      <td>-9257.0</td>\n",
       "      <td>216.163793</td>\n",
       "    </tr>\n",
       "    <tr>\n",
       "      <th>15110</th>\n",
       "      <td>14165.0</td>\n",
       "      <td>2.45</td>\n",
       "      <td>悪役</td>\n",
       "      <td>178.0</td>\n",
       "      <td>289.0</td>\n",
       "      <td>-13987.0</td>\n",
       "      <td>117.959184</td>\n",
       "    </tr>\n",
       "    <tr>\n",
       "      <th>19707</th>\n",
       "      <td>9971.0</td>\n",
       "      <td>4.20</td>\n",
       "      <td>破棄</td>\n",
       "      <td>158.0</td>\n",
       "      <td>337.0</td>\n",
       "      <td>-9813.0</td>\n",
       "      <td>80.238095</td>\n",
       "    </tr>\n",
       "    <tr>\n",
       "      <th>4459</th>\n",
       "      <td>14962.0</td>\n",
       "      <td>2.25</td>\n",
       "      <td>ギルド</td>\n",
       "      <td>276.0</td>\n",
       "      <td>180.0</td>\n",
       "      <td>-14686.0</td>\n",
       "      <td>80.000000</td>\n",
       "    </tr>\n",
       "    <tr>\n",
       "      <th>10002</th>\n",
       "      <td>13807.0</td>\n",
       "      <td>2.55</td>\n",
       "      <td>伯爵</td>\n",
       "      <td>252.0</td>\n",
       "      <td>198.0</td>\n",
       "      <td>-13555.0</td>\n",
       "      <td>77.647059</td>\n",
       "    </tr>\n",
       "    <tr>\n",
       "      <th>24305</th>\n",
       "      <td>14970.0</td>\n",
       "      <td>2.25</td>\n",
       "      <td>魔力</td>\n",
       "      <td>310.0</td>\n",
       "      <td>158.0</td>\n",
       "      <td>-14660.0</td>\n",
       "      <td>70.222222</td>\n",
       "    </tr>\n",
       "    <tr>\n",
       "      <th>22724</th>\n",
       "      <td>9074.0</td>\n",
       "      <td>4.84</td>\n",
       "      <td>追放</td>\n",
       "      <td>165.0</td>\n",
       "      <td>318.0</td>\n",
       "      <td>-8909.0</td>\n",
       "      <td>65.702479</td>\n",
       "    </tr>\n",
       "    <tr>\n",
       "      <th>13519</th>\n",
       "      <td>7462.0</td>\n",
       "      <td>6.46</td>\n",
       "      <td>完結</td>\n",
       "      <td>135.0</td>\n",
       "      <td>400.0</td>\n",
       "      <td>-7327.0</td>\n",
       "      <td>61.919505</td>\n",
       "    </tr>\n",
       "    <tr>\n",
       "      <th>19165</th>\n",
       "      <td>4047.0</td>\n",
       "      <td>15.16</td>\n",
       "      <td>異</td>\n",
       "      <td>63.0</td>\n",
       "      <td>909.0</td>\n",
       "      <td>-3984.0</td>\n",
       "      <td>59.960422</td>\n",
       "    </tr>\n",
       "  </tbody>\n",
       "</table>\n",
       "</div>"
      ],
      "text/plain": [
       "       rtatman_rank  frequency lemma  syosetu_rank   count  rank_difference  \\\n",
       "22553       14103.0       2.47    転生          93.0   556.0         -14010.0   \n",
       "13353        9316.0       4.64    婚約          59.0  1003.0          -9257.0   \n",
       "15110       14165.0       2.45    悪役         178.0   289.0         -13987.0   \n",
       "19707        9971.0       4.20    破棄         158.0   337.0          -9813.0   \n",
       "4459        14962.0       2.25   ギルド         276.0   180.0         -14686.0   \n",
       "10002       13807.0       2.55    伯爵         252.0   198.0         -13555.0   \n",
       "24305       14970.0       2.25    魔力         310.0   158.0         -14660.0   \n",
       "22724        9074.0       4.84    追放         165.0   318.0          -8909.0   \n",
       "13519        7462.0       6.46    完結         135.0   400.0          -7327.0   \n",
       "19165        4047.0      15.16     異          63.0   909.0          -3984.0   \n",
       "\n",
       "       count_over_frequency  \n",
       "22553            225.101215  \n",
       "13353            216.163793  \n",
       "15110            117.959184  \n",
       "19707             80.238095  \n",
       "4459              80.000000  \n",
       "10002             77.647059  \n",
       "24305             70.222222  \n",
       "22724             65.702479  \n",
       "13519             61.919505  \n",
       "19165             59.960422  "
      ]
     },
     "execution_count": 167,
     "metadata": {},
     "output_type": "execute_result"
    }
   ],
   "source": [
    "to_chart[::-1].head(10)"
   ]
  },
  {
   "cell_type": "markdown",
   "metadata": {},
   "source": [
    "In addition to the terms identified earlier, \"[iin](https://jisho.org/word/%E5%A7%94%E5%93%A1)\", or committee member, seems to be disproportionately *uncommon* in the webnovel data. More terms identified as disproportionately *common* in the webnovel data include:\n",
    "\n",
    "1. \"[Konyaku](https://jisho.org/search/%E5%A9%9A%E7%B4%84)\", engagement or betrothal. A common inciting incident in webnovels is a the fianc&eacute; of a female protagonist, often fitting in the \"akuyaku reijou\" mold, abruptly breaking their engagement.\n",
    "2. \"[Haki](https://jisho.org/word/%E7%A0%B4%E6%A3%84)\", meaning cancellation or annulment. This is often used in combination with \"konyaku\".\n",
    "3. \"[Hakushaku](https://jisho.org/word/%E4%BC%AF%E7%88%B5)\", a count or earl.\n",
    "4. \"[Tsuihou](https://jisho.org/word/%E8%BF%BD%E6%94%BE)\", exile, a fate webnovel protagonists often receive or are threatened by as their story begins.\n",
    "5. \"[Kanketsu](https://jisho.org/word/%E5%AE%8C%E7%B5%90)\", conclusion or completion.\n",
    "6. \"[I](https://jisho.org/word/%E7%95%B0)\", pronounced as in \"link\". An adjective or prefix meaning strange or different. Most common here as the first character in \"[isekai](https://jisho.org/word/%E7%95%B0%E4%B8%96%E7%95%8C)\", meaning a different world or parallel universe."
   ]
  },
  {
   "cell_type": "code",
   "execution_count": 104,
   "metadata": {},
   "outputs": [
    {
     "data": {
      "text/html": [
       "<div>\n",
       "<style scoped>\n",
       "    .dataframe tbody tr th:only-of-type {\n",
       "        vertical-align: middle;\n",
       "    }\n",
       "\n",
       "    .dataframe tbody tr th {\n",
       "        vertical-align: top;\n",
       "    }\n",
       "\n",
       "    .dataframe thead th {\n",
       "        text-align: right;\n",
       "    }\n",
       "</style>\n",
       "<table border=\"1\" class=\"dataframe\">\n",
       "  <thead>\n",
       "    <tr style=\"text-align: right;\">\n",
       "      <th></th>\n",
       "      <th>rtatman_rank</th>\n",
       "      <th>frequency</th>\n",
       "      <th>lemma</th>\n",
       "      <th>syosetu_rank</th>\n",
       "      <th>count</th>\n",
       "      <th>rank_difference</th>\n",
       "    </tr>\n",
       "  </thead>\n",
       "  <tbody>\n",
       "    <tr>\n",
       "      <th>530</th>\n",
       "      <td>39.0</td>\n",
       "      <td>2463.71</td>\n",
       "      <td>う</td>\n",
       "      <td>516.0</td>\n",
       "      <td>91.0</td>\n",
       "      <td>477.0</td>\n",
       "    </tr>\n",
       "  </tbody>\n",
       "</table>\n",
       "</div>"
      ],
      "text/plain": [
       "     rtatman_rank  frequency lemma  syosetu_rank  count  rank_difference\n",
       "530          39.0    2463.71     う         516.0   91.0            477.0"
      ]
     },
     "execution_count": 104,
     "metadata": {},
     "output_type": "execute_result"
    }
   ],
   "source": [
    "in_both_datasets.loc[in_both_datasets['frequency'].between(2000,3000) &\n",
    "                     in_both_datasets['count'].between(80,100)]"
   ]
  },
  {
   "cell_type": "code",
   "execution_count": 212,
   "metadata": {},
   "outputs": [
    {
     "data": {
      "text/html": [
       "<div>\n",
       "<style scoped>\n",
       "    .dataframe tbody tr th:only-of-type {\n",
       "        vertical-align: middle;\n",
       "    }\n",
       "\n",
       "    .dataframe tbody tr th {\n",
       "        vertical-align: top;\n",
       "    }\n",
       "\n",
       "    .dataframe thead th {\n",
       "        text-align: right;\n",
       "    }\n",
       "</style>\n",
       "<table border=\"1\" class=\"dataframe\">\n",
       "  <thead>\n",
       "    <tr style=\"text-align: right;\">\n",
       "      <th></th>\n",
       "      <th>rtatman_rank</th>\n",
       "      <th>frequency</th>\n",
       "      <th>lemma</th>\n",
       "      <th>syosetu_rank</th>\n",
       "      <th>count</th>\n",
       "      <th>rank_difference</th>\n",
       "    </tr>\n",
       "  </thead>\n",
       "  <tbody>\n",
       "    <tr>\n",
       "      <th>16721</th>\n",
       "      <td>2251.0</td>\n",
       "      <td>31.07</td>\n",
       "      <td>書籍</td>\n",
       "      <td>41.0</td>\n",
       "      <td>1417.0</td>\n",
       "      <td>-2210.0</td>\n",
       "    </tr>\n",
       "    <tr>\n",
       "      <th>14167</th>\n",
       "      <td>1862.0</td>\n",
       "      <td>39.31</td>\n",
       "      <td>巻</td>\n",
       "      <td>38.0</td>\n",
       "      <td>1590.0</td>\n",
       "      <td>-1824.0</td>\n",
       "    </tr>\n",
       "  </tbody>\n",
       "</table>\n",
       "</div>"
      ],
      "text/plain": [
       "       rtatman_rank  frequency lemma  syosetu_rank   count  rank_difference\n",
       "16721        2251.0      31.07    書籍          41.0  1417.0          -2210.0\n",
       "14167        1862.0      39.31     巻          38.0  1590.0          -1824.0"
      ]
     },
     "execution_count": 212,
     "metadata": {},
     "output_type": "execute_result"
    }
   ],
   "source": [
    "in_both_datasets.query(\"20 < frequency < 60 and 1000 < count < 2000\")"
   ]
  },
  {
   "cell_type": "markdown",
   "metadata": {},
   "source": [
    "*Answer to research question:* We can conclude that webnovel summaries are disproportionately likely to use language referring to fantasy concepts, and to a lesser extent referring to aspects of the production and adaptation process. They are disproportionately *unlikely* to use language relating to modern technology, politics, bureaucracy, or economics. \"Kinou\" fits none of these, but it may be more common in Tatman's dataset due to drawing from news articles."
   ]
  },
  {
   "cell_type": "code",
   "execution_count": 205,
   "metadata": {
    "id": "6fdK_8ZGZm9R"
   },
   "outputs": [
    {
     "name": "stderr",
     "output_type": "stream",
     "text": [
      "C:\\Users\\piwv\\AppData\\Local\\Temp\\ipykernel_22760\\429617212.py:19: FutureWarning: The default of observed=False is deprecated and will be changed to True in a future version of pandas. Pass observed=False to retain current behavior or observed=True to adopt the future default and silence this warning.\n",
      "  lemma_groups = lemma_groups.groupby('category').sum()\n"
     ]
    }
   ],
   "source": [
    "#Visual 2 - FILL IN\n",
    "def lemma_classifier(s: pd.Series):\n",
    "    is_hiragana = s.str.fullmatch(r\"[\\u3040-\\u309F]+\")\n",
    "    is_katakana = s.str.fullmatch(r\"[\\u30A0-\\u30FF]+\")\n",
    "    is_kanji = s.str.fullmatch(r\"[\\u4E00-\\u9FFF]+\")\n",
    "    s2 = (is_hiragana.map({True:1,False:0}) +\n",
    "          is_katakana.map({True:2,False:0}) +\n",
    "          is_kanji.map({True:3,False:0}))\n",
    "    #def m(s: pd.Series, i: int): return s.map({True:i,False:0})\n",
    "    #s2 = m(is_hiragana, 1) + m(is_katakana, 2) + m(is_kanji, 3)\n",
    "    s2 = s2.astype('category')\n",
    "    cats = {0:'Mixed', 1:'All hiragana', 2:'All katakana', 3:'All kanji'}\n",
    "    return s2.cat.rename_categories(cats)\n",
    "\n",
    "lemma_groups = pd.DataFrame({\n",
    "    'category': lemma_classifier(combined_lemma_rankings['lemma']),\n",
    "    'rtatman_frequency': combined_lemma_rankings['frequency'],\n",
    "    'syosetu_count': combined_lemma_rankings['count'],\n",
    "})\n",
    "# -----------------------------------------------------------------------------\n",
    "lemma_groups.sort_values(by='rtatman_frequency', ascending=False, inplace=True)\n",
    "lemma_groups = lemma_groups.groupby('category').sum()"
   ]
  },
  {
   "cell_type": "code",
   "execution_count": 206,
   "metadata": {},
   "outputs": [
    {
     "data": {
      "text/plain": [
       "<Axes: >"
      ]
     },
     "execution_count": 206,
     "metadata": {},
     "output_type": "execute_result"
    },
    {
     "data": {
      "image/png": "[encoded data removed]",
      "text/plain": [
       "<Figure size 640x480 with 1 Axes>"
      ]
     },
     "metadata": {},
     "output_type": "display_data"
    }
   ],
   "source": [
    "def to_frac(s: pd.Series): return s.div(s.sum())\n",
    "\n",
    "for c in lemma_groups.columns:\n",
    "    lemma_groups[c] = to_frac(lemma_groups[c])\n",
    "lemma_groups.T.plot.bar(stacked=True)"
   ]
  },
  {
   "cell_type": "markdown",
   "metadata": {
    "id": "K5RgvMGUZoHn"
   },
   "source": [
    "*Answer to research question:* When lemmas are categorized by what kind of characters they include and weighted by frequency, little difference is apparent between the webnovel dataset and Tatman's. The only exception is a slightly smaller proportion of hiragana-only lemmas, and a larger proportion of mixed-character-type lemmas. Comparisons are also difficult because Tatman's dataset is limited to the top 15,000 from a large corpus, while ours is much smaller (less than 500,000 tokens total compared to 253,000,000), and we're including every lemma we found; we don't know how the absent \"tail\" of Tatman's source corpus would affect things."
   ]
  },
  {
   "cell_type": "markdown",
   "metadata": {
    "id": "0ezWXXZVj-TP"
   },
   "source": [
    "### **5.2:** Reflection\n",
    "In 2-4 sentences, if you had more time to complete the project, what actions would you take? For example, which data quality and structural issues would you look into further, and what research questions would you further explore?"
   ]
  },
  {
   "cell_type": "markdown",
   "metadata": {
    "id": "XB3RBDG5kFe1"
   },
   "source": [
    "*Answer:* I would like to further refine the datasets to remove unwanted entries, or see if the lemmatization process can be improved. Conceivably, comparisons could also be made with text from the stories themselves, from stories published at different times, or from other Japanese webnovel sites such as Kakuyomu.\n",
    "\n",
    "Expanding the dataset from Shousetsuka ni Narou would also be an option. The maximum \"start position\" permitted by the API is 2,000, but more could be retrieved by partitioning the site's stories into two groups, such as \"romance\" and \"fantasy\" stories versus all others, and combining data for the top 2,000 stories in each group."
   ]
  }
 ],
 "metadata": {
  "colab": {
   "provenance": []
  },
  "kernelspec": {
   "display_name": "Python 3 (ipykernel)",
   "language": "python",
   "name": "python3"
  },
  "language_info": {
   "codemirror_mode": {
    "name": "ipython",
    "version": 3
   },
   "file_extension": ".py",
   "mimetype": "text/x-python",
   "name": "python",
   "nbconvert_exporter": "python",
   "pygments_lexer": "ipython3",
   "version": "3.11.10"
  }
 },
 "nbformat": 4,
 "nbformat_minor": 4
}
